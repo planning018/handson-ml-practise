{
 "cells": [
  {
   "cell_type": "code",
   "execution_count": 39,
   "id": "1537fec0-4ce8-428f-8f6f-9e62b8d36aaa",
   "metadata": {},
   "outputs": [],
   "source": [
    "import matplotlib.pyplot as plt\n",
    "import numpy as np\n",
    "\n",
    "plt.rc('font', size=14)\n",
    "plt.rc('axes', labelsize=14, titlesize=14)\n",
    "plt.rc('legend', fontsize=14)\n",
    "plt.rc('xtick', labelsize=10)\n",
    "plt.rc('ytick', labelsize=10)"
   ]
  },
  {
   "cell_type": "code",
   "execution_count": 13,
   "id": "dee5cd35-581f-4d70-841b-33f10e006fab",
   "metadata": {},
   "outputs": [],
   "source": [
    "from pathlib import Path\n",
    "\n",
    "IMAGES_PATH = Path() / \"images\" / \"ann\"\n",
    "IMAGES_PATH.mkdir(parents=True, exist_ok=True)\n",
    "\n",
    "def save_fig(fig_id, tight_layout=True, fig_extension=\"png\", resolution=300):\n",
    "    path = IMAGES_PATH / f\"{fig_id}.{fig_extension}\"\n",
    "    if tight_layout:\n",
    "        plt.tight_layout()\n",
    "    plt.savefig(path, format=fig_extension, dpi=resolution)"
   ]
  },
  {
   "cell_type": "markdown",
   "id": "2449e23b-fd64-4bd9-9e43-fb80edb128d8",
   "metadata": {},
   "source": [
    "# Implementing MLPs with Keras"
   ]
  },
  {
   "cell_type": "markdown",
   "id": "0881d637-4c07-4561-88d7-3d8dba5c9f54",
   "metadata": {},
   "source": [
    "## Building an Image Classifier Using the Sequential API"
   ]
  },
  {
   "cell_type": "markdown",
   "id": "de7ecbd9-ed1c-4f3a-ab8e-031da71a067b",
   "metadata": {},
   "source": [
    "### Using Keras to load the dataset"
   ]
  },
  {
   "cell_type": "markdown",
   "id": "615865f3-90c2-47c1-9975-76d4524ef0fc",
   "metadata": {},
   "source": [
    "Let's start by loading the fashion MNIST dataset. Keras has a number of functions to load popular datasets in tf.keras.datasets. The dataset is already split for you between a training set (60,000 images) and a test set (10,000 images), but it can be useful to split the training set further to have a validation set. We'll use 55,000 images for training, and 5,000 for validation."
   ]
  },
  {
   "cell_type": "code",
   "execution_count": 14,
   "id": "e46ad78f-61c9-4af7-8837-e952cdccc992",
   "metadata": {},
   "outputs": [],
   "source": [
    "import tensorflow as tf\n",
    "\n",
    "fashion_mnist = tf.keras.datasets.fashion_mnist.load_data()\n",
    "(X_train_full, y_train_full), (X_test, y_test) = fashion_mnist\n",
    "X_train, y_train = X_train_full[:-5000], y_train_full[:-5000]\n",
    "X_valid, y_valid = X_train_full[-5000:], y_train_full[-5000:]"
   ]
  },
  {
   "cell_type": "markdown",
   "id": "de433498-fb85-4a11-abc7-35f87299d9de",
   "metadata": {},
   "source": [
    "The training set contains 60,000 grayscale images, each 28x28 pixels:"
   ]
  },
  {
   "cell_type": "code",
   "execution_count": 15,
   "id": "3eaf629a-cfe2-4289-b52b-2bcf0e7f7185",
   "metadata": {},
   "outputs": [
    {
     "data": {
      "text/plain": [
       "(55000, 28, 28)"
      ]
     },
     "execution_count": 15,
     "metadata": {},
     "output_type": "execute_result"
    }
   ],
   "source": [
    "X_train.shape"
   ]
  },
  {
   "cell_type": "markdown",
   "id": "3ced0ea3-fd02-4a23-b234-e67d3d345174",
   "metadata": {},
   "source": [
    "Each pixel intensity is represented as a byte (0 to 255):"
   ]
  },
  {
   "cell_type": "code",
   "execution_count": 16,
   "id": "c190586b-7501-4c12-996d-8f7d71c04b77",
   "metadata": {},
   "outputs": [
    {
     "data": {
      "text/plain": [
       "dtype('uint8')"
      ]
     },
     "execution_count": 16,
     "metadata": {},
     "output_type": "execute_result"
    }
   ],
   "source": [
    "X_train.dtype"
   ]
  },
  {
   "cell_type": "markdown",
   "id": "e18587f2-2876-4e51-826f-b66715a64e21",
   "metadata": {},
   "source": [
    "Let's scale the pixel intensities down to the 0-1 range and convert them to floats, by dividing by 255:"
   ]
  },
  {
   "cell_type": "code",
   "execution_count": 17,
   "id": "f2ecf421-f9a1-4911-8cb1-b0d218e29ea9",
   "metadata": {},
   "outputs": [],
   "source": [
    "X_train, X_valid, X_test = X_train / 255., X_valid / 255., X_test / 255."
   ]
  },
  {
   "cell_type": "markdown",
   "id": "9bdf5519-0944-45fb-a8bf-0c726b1f1335",
   "metadata": {},
   "source": [
    "You can plot an image using Matplotlib's imshow() function, with a 'binary' color map:"
   ]
  },
  {
   "cell_type": "code",
   "execution_count": 18,
   "id": "29f9e8fa-d2da-4d6b-98fe-bafec6b181b6",
   "metadata": {},
   "outputs": [
    {
     "data": {
      "image/png": "[encoded data removed]",
      "text/plain": [
       "<Figure size 640x480 with 1 Axes>"
      ]
     },
     "metadata": {},
     "output_type": "display_data"
    }
   ],
   "source": [
    "# extra code\n",
    "import matplotlib.pyplot as plt\n",
    "\n",
    "plt.imshow(X_train[0], cmap=\"binary\")\n",
    "plt.axis('off')\n",
    "plt.show()"
   ]
  },
  {
   "cell_type": "markdown",
   "id": "4150ce51-4b0e-4d7b-84b5-315603ac34bf",
   "metadata": {},
   "source": [
    "The labels are the class IDs (represented as uint8), from 0 to 9:"
   ]
  },
  {
   "cell_type": "code",
   "execution_count": 19,
   "id": "d9108c1f-ab4e-43f7-a617-b1a2386667a3",
   "metadata": {},
   "outputs": [
    {
     "data": {
      "text/plain": [
       "array([9, 0, 0, ..., 9, 0, 2], dtype=uint8)"
      ]
     },
     "execution_count": 19,
     "metadata": {},
     "output_type": "execute_result"
    }
   ],
   "source": [
    "y_train"
   ]
  },
  {
   "cell_type": "markdown",
   "id": "c7ca3829-3f11-4d30-a9e9-da688c70e04e",
   "metadata": {},
   "source": [
    "Here are the corresponding class names:"
   ]
  },
  {
   "cell_type": "code",
   "execution_count": 20,
   "id": "32c955c8-9b4d-4e98-8744-99076864a5de",
   "metadata": {},
   "outputs": [],
   "source": [
    "class_names = [\"T-shirt/top\", \"Trouser\", \"Pullover\", \"Dress\", \"Coat\",\n",
    "               \"Sandal\", \"Shirt\", \"Sneaker\", \"Bag\", \"Ankle boot\"]"
   ]
  },
  {
   "cell_type": "markdown",
   "id": "28392888-c069-448c-be3c-96b0de26abde",
   "metadata": {},
   "source": [
    "So the first image in the training set is an ankle boot:"
   ]
  },
  {
   "cell_type": "code",
   "execution_count": 21,
   "id": "0b41de05-fcee-49dd-a9df-30d0cbf81197",
   "metadata": {},
   "outputs": [
    {
     "data": {
      "text/plain": [
       "'Ankle boot'"
      ]
     },
     "execution_count": 21,
     "metadata": {},
     "output_type": "execute_result"
    }
   ],
   "source": [
    "class_names[y_train[0]]"
   ]
  },
  {
   "cell_type": "markdown",
   "id": "476010c1-5ac7-4e20-89a7-ee9df02c5f24",
   "metadata": {},
   "source": [
    "Let's take a look at a sample of the images in the dataset:"
   ]
  },
  {
   "cell_type": "code",
   "execution_count": 22,
   "id": "45e1bd4c-7128-4832-bc35-48dada82750c",
   "metadata": {},
   "outputs": [
    {
     "data": {
      "image/png": "[encoded data removed]",
      "text/plain": [
       "<Figure size 1200x480 with 40 Axes>"
      ]
     },
     "metadata": {},
     "output_type": "display_data"
    }
   ],
   "source": [
    "# extra code – this cell generates and saves Figure 10–10\n",
    "\n",
    "n_rows = 4\n",
    "n_cols = 10\n",
    "plt.figure(figsize=(n_cols * 1.2, n_rows * 1.2))\n",
    "for row in range(n_rows):\n",
    "    for col in range(n_cols):\n",
    "        index = n_cols * row + col\n",
    "        plt.subplot(n_rows, n_cols, index + 1)\n",
    "        plt.imshow(X_train[index], cmap=\"binary\", interpolation=\"nearest\")\n",
    "        plt.axis('off')\n",
    "        plt.title(class_names[y_train[index]])\n",
    "plt.subplots_adjust(wspace=0.2, hspace=0.5)\n",
    "\n",
    "save_fig(\"fashion_mnist_plot\")\n",
    "plt.show()"
   ]
  },
  {
   "cell_type": "markdown",
   "id": "577149e8-9113-409b-807b-1cb9d2cf033e",
   "metadata": {},
   "source": [
    "### Creating the model using the Sequential API"
   ]
  },
  {
   "cell_type": "code",
   "execution_count": 23,
   "id": "edc85886-5692-4d34-b7e2-2807f725bada",
   "metadata": {},
   "outputs": [],
   "source": [
    "tf.random.set_seed(42)\n",
    "model = tf.keras.Sequential()\n",
    "model.add(tf.keras.layers.InputLayer(input_shape=[28, 28]))\n",
    "model.add(tf.keras.layers.Flatten())\n",
    "model.add(tf.keras.layers.Dense(300, activation=\"relu\"))\n",
    "model.add(tf.keras.layers.Dense(100, activation=\"relu\"))\n",
    "model.add(tf.keras.layers.Dense(10, activation=\"softmax\"))"
   ]
  },
  {
   "cell_type": "code",
   "execution_count": 24,
   "id": "6d0b2045-1857-4541-a385-c647b7919e85",
   "metadata": {},
   "outputs": [],
   "source": [
    "# extra code – clear the session to reset the name counters\n",
    "tf.keras.backend.clear_session()\n",
    "tf.random.set_seed(42)\n",
    "\n",
    "model = tf.keras.Sequential([\n",
    "    tf.keras.layers.Flatten(input_shape=[28, 28]),\n",
    "    tf.keras.layers.Dense(300, activation=\"relu\"),\n",
    "    tf.keras.layers.Dense(100, activation=\"relu\"),\n",
    "    tf.keras.layers.Dense(10, activation=\"softmax\")\n",
    "])"
   ]
  },
  {
   "cell_type": "code",
   "execution_count": 25,
   "id": "9878e7b0-8c31-45b6-9761-73620a0af8bf",
   "metadata": {},
   "outputs": [
    {
     "name": "stdout",
     "output_type": "stream",
     "text": [
      "Model: \"sequential\"\n",
      "_________________________________________________________________\n",
      " Layer (type)                Output Shape              Param #   \n",
      "=================================================================\n",
      " flatten (Flatten)           (None, 784)               0         \n",
      "                                                                 \n",
      " dense (Dense)               (None, 300)               235500    \n",
      "                                                                 \n",
      " dense_1 (Dense)             (None, 100)               30100     \n",
      "                                                                 \n",
      " dense_2 (Dense)             (None, 10)                1010      \n",
      "                                                                 \n",
      "=================================================================\n",
      "Total params: 266610 (1.02 MB)\n",
      "Trainable params: 266610 (1.02 MB)\n",
      "Non-trainable params: 0 (0.00 Byte)\n",
      "_________________________________________________________________\n"
     ]
    }
   ],
   "source": [
    "model.summary()"
   ]
  },
  {
   "cell_type": "code",
   "execution_count": 26,
   "id": "4577bfe5-cfb0-4da9-9950-dbe9eded9188",
   "metadata": {},
   "outputs": [
    {
     "name": "stdout",
     "output_type": "stream",
     "text": [
      "You must install pydot (`pip install pydot`) and install graphviz (see instructions at https://graphviz.gitlab.io/download/) for plot_model to work.\n"
     ]
    }
   ],
   "source": [
    "# extra code – another way to display the model's architecture\n",
    "tf.keras.utils.plot_model(model, \"my_fashion_mnist_model.png\", show_shapes=True)"
   ]
  },
  {
   "cell_type": "code",
   "execution_count": 27,
   "id": "3807f23a-b581-4d5d-8bf1-893c2f18d507",
   "metadata": {},
   "outputs": [
    {
     "data": {
      "text/plain": [
       "[<keras.src.layers.reshaping.flatten.Flatten at 0x7f2bec50c370>,\n",
       " <keras.src.layers.core.dense.Dense at 0x7f2bc81242e0>,\n",
       " <keras.src.layers.core.dense.Dense at 0x7f2bc7f2ef10>,\n",
       " <keras.src.layers.core.dense.Dense at 0x7f2bc8121280>]"
      ]
     },
     "execution_count": 27,
     "metadata": {},
     "output_type": "execute_result"
    }
   ],
   "source": [
    "model.layers"
   ]
  },
  {
   "cell_type": "code",
   "execution_count": 28,
   "id": "c44078bd-05c9-481e-85f2-17563e9ef004",
   "metadata": {},
   "outputs": [
    {
     "data": {
      "text/plain": [
       "'dense'"
      ]
     },
     "execution_count": 28,
     "metadata": {},
     "output_type": "execute_result"
    }
   ],
   "source": [
    "hidden1 = model.layers[1]\n",
    "hidden1.name"
   ]
  },
  {
   "cell_type": "code",
   "execution_count": 29,
   "id": "89821cb7-111a-4aa5-94cd-db8c40aca871",
   "metadata": {},
   "outputs": [
    {
     "data": {
      "text/plain": [
       "True"
      ]
     },
     "execution_count": 29,
     "metadata": {},
     "output_type": "execute_result"
    }
   ],
   "source": [
    "model.get_layer('dense') is hidden1"
   ]
  },
  {
   "cell_type": "code",
   "execution_count": 30,
   "id": "0dfe312c-177f-43df-89ca-5a887bf5da20",
   "metadata": {},
   "outputs": [
    {
     "data": {
      "text/plain": [
       "array([[-0.03913394, -0.05097132,  0.00180466, ...,  0.00052774,\n",
       "         0.05484279,  0.04345836],\n",
       "       [-0.04060028, -0.0567597 , -0.01147478, ..., -0.03711123,\n",
       "        -0.04477261, -0.03370221],\n",
       "       [ 0.03049219,  0.00747714, -0.0345482 , ..., -0.00519118,\n",
       "         0.06257764,  0.07041243],\n",
       "       ...,\n",
       "       [-0.01391985, -0.01953092,  0.03156158, ...,  0.01441804,\n",
       "         0.01660229, -0.04326358],\n",
       "       [ 0.02671792,  0.01023377, -0.02419374, ..., -0.03869148,\n",
       "         0.07307248, -0.04214367],\n",
       "       [-0.03724197, -0.06451041, -0.04418597, ..., -0.0535641 ,\n",
       "         0.01837124, -0.02217993]], dtype=float32)"
      ]
     },
     "execution_count": 30,
     "metadata": {},
     "output_type": "execute_result"
    }
   ],
   "source": [
    "weights, biases = hidden1.get_weights()\n",
    "weights"
   ]
  },
  {
   "cell_type": "code",
   "execution_count": 31,
   "id": "f22e2cb3-a0cd-4415-af94-1719ee54d097",
   "metadata": {},
   "outputs": [
    {
     "data": {
      "text/plain": [
       "(784, 300)"
      ]
     },
     "execution_count": 31,
     "metadata": {},
     "output_type": "execute_result"
    }
   ],
   "source": [
    "weights.shape"
   ]
  },
  {
   "cell_type": "code",
   "execution_count": 32,
   "id": "2b0a9d5c-fe4b-44b9-8fab-bee1ea66a51f",
   "metadata": {},
   "outputs": [
    {
     "data": {
      "text/plain": [
       "array([0., 0., 0., 0., 0., 0., 0., 0., 0., 0., 0., 0., 0., 0., 0., 0., 0.,\n",
       "       0., 0., 0., 0., 0., 0., 0., 0., 0., 0., 0., 0., 0., 0., 0., 0., 0.,\n",
       "       0., 0., 0., 0., 0., 0., 0., 0., 0., 0., 0., 0., 0., 0., 0., 0., 0.,\n",
       "       0., 0., 0., 0., 0., 0., 0., 0., 0., 0., 0., 0., 0., 0., 0., 0., 0.,\n",
       "       0., 0., 0., 0., 0., 0., 0., 0., 0., 0., 0., 0., 0., 0., 0., 0., 0.,\n",
       "       0., 0., 0., 0., 0., 0., 0., 0., 0., 0., 0., 0., 0., 0., 0., 0., 0.,\n",
       "       0., 0., 0., 0., 0., 0., 0., 0., 0., 0., 0., 0., 0., 0., 0., 0., 0.,\n",
       "       0., 0., 0., 0., 0., 0., 0., 0., 0., 0., 0., 0., 0., 0., 0., 0., 0.,\n",
       "       0., 0., 0., 0., 0., 0., 0., 0., 0., 0., 0., 0., 0., 0., 0., 0., 0.,\n",
       "       0., 0., 0., 0., 0., 0., 0., 0., 0., 0., 0., 0., 0., 0., 0., 0., 0.,\n",
       "       0., 0., 0., 0., 0., 0., 0., 0., 0., 0., 0., 0., 0., 0., 0., 0., 0.,\n",
       "       0., 0., 0., 0., 0., 0., 0., 0., 0., 0., 0., 0., 0., 0., 0., 0., 0.,\n",
       "       0., 0., 0., 0., 0., 0., 0., 0., 0., 0., 0., 0., 0., 0., 0., 0., 0.,\n",
       "       0., 0., 0., 0., 0., 0., 0., 0., 0., 0., 0., 0., 0., 0., 0., 0., 0.,\n",
       "       0., 0., 0., 0., 0., 0., 0., 0., 0., 0., 0., 0., 0., 0., 0., 0., 0.,\n",
       "       0., 0., 0., 0., 0., 0., 0., 0., 0., 0., 0., 0., 0., 0., 0., 0., 0.,\n",
       "       0., 0., 0., 0., 0., 0., 0., 0., 0., 0., 0., 0., 0., 0., 0., 0., 0.,\n",
       "       0., 0., 0., 0., 0., 0., 0., 0., 0., 0., 0.], dtype=float32)"
      ]
     },
     "execution_count": 32,
     "metadata": {},
     "output_type": "execute_result"
    }
   ],
   "source": [
    "biases"
   ]
  },
  {
   "cell_type": "code",
   "execution_count": 33,
   "id": "e6f76d37-23e6-4292-a116-1a07b87107e1",
   "metadata": {},
   "outputs": [
    {
     "data": {
      "text/plain": [
       "(300,)"
      ]
     },
     "execution_count": 33,
     "metadata": {},
     "output_type": "execute_result"
    }
   ],
   "source": [
    "biases.shape"
   ]
  },
  {
   "cell_type": "markdown",
   "id": "a3c45fba-d1bd-49b6-b7ff-ec4db2fb3825",
   "metadata": {},
   "source": [
    "### Compiling the model"
   ]
  },
  {
   "cell_type": "code",
   "execution_count": 34,
   "id": "5c30ee1f-8b62-4b82-8ea1-a46db2142dec",
   "metadata": {},
   "outputs": [],
   "source": [
    "model.compile(loss=\"sparse_categorical_crossentropy\",\n",
    "              optimizer=\"sgd\",\n",
    "              metrics=[\"accuracy\"])"
   ]
  },
  {
   "cell_type": "markdown",
   "id": "d4bb30b6-6bdd-446f-96e2-5669f06921c5",
   "metadata": {},
   "source": [
    "This is equivalent to:"
   ]
  },
  {
   "cell_type": "code",
   "execution_count": 35,
   "id": "030a34f0-4b9a-4ace-a8c0-25cfeebff95d",
   "metadata": {},
   "outputs": [],
   "source": [
    "# extra code – this cell is equivalent to the previous cell\n",
    "model.compile(loss=tf.keras.losses.sparse_categorical_crossentropy,\n",
    "              optimizer=tf.keras.optimizers.SGD(),\n",
    "              metrics=[tf.keras.metrics.sparse_categorical_accuracy])"
   ]
  },
  {
   "cell_type": "code",
   "execution_count": 36,
   "id": "c0636efb-cf2e-4efe-9b63-ca965e89e568",
   "metadata": {},
   "outputs": [
    {
     "data": {
      "text/plain": [
       "array([[1., 0., 0., 0., 0., 0., 0., 0., 0., 0.],\n",
       "       [0., 0., 0., 0., 0., 1., 0., 0., 0., 0.],\n",
       "       [0., 1., 0., 0., 0., 0., 0., 0., 0., 0.],\n",
       "       [1., 0., 0., 0., 0., 0., 0., 0., 0., 0.]], dtype=float32)"
      ]
     },
     "execution_count": 36,
     "metadata": {},
     "output_type": "execute_result"
    }
   ],
   "source": [
    "# extra code – shows how to convert class ids to one-hot vectors\n",
    "tf.keras.utils.to_categorical([0, 5, 1, 0], num_classes=10)"
   ]
  },
  {
   "cell_type": "markdown",
   "id": "68f78878-50e6-4e4d-b1dc-2a888f511db4",
   "metadata": {},
   "source": [
    "Note: it's important to set num_classes when the number of classes is greater than the maximum class id in the sample."
   ]
  },
  {
   "cell_type": "code",
   "execution_count": 40,
   "id": "95af9d9c-2e86-4bbf-9098-ac46a934e8f7",
   "metadata": {},
   "outputs": [
    {
     "data": {
      "text/plain": [
       "array([0, 5, 1, 0])"
      ]
     },
     "execution_count": 40,
     "metadata": {},
     "output_type": "execute_result"
    }
   ],
   "source": [
    "# extra code – shows how to convert one-hot vectors to class ids\n",
    "np.argmax(\n",
    "    [[1., 0., 0., 0., 0., 0., 0., 0., 0., 0.],\n",
    "     [0., 0., 0., 0., 0., 1., 0., 0., 0., 0.],\n",
    "     [0., 1., 0., 0., 0., 0., 0., 0., 0., 0.],\n",
    "     [1., 0., 0., 0., 0., 0., 0., 0., 0., 0.]],\n",
    "    axis=1\n",
    ")"
   ]
  },
  {
   "cell_type": "markdown",
   "id": "2acecb9b-e2c9-4864-9362-d303de01e8ae",
   "metadata": {},
   "source": [
    "### Training and evaluating the model"
   ]
  },
  {
   "cell_type": "code",
   "execution_count": 41,
   "id": "eb152146-0318-4742-bac3-27ed0c7d6bd1",
   "metadata": {},
   "outputs": [
    {
     "name": "stdout",
     "output_type": "stream",
     "text": [
      "Epoch 1/30\n"
     ]
    },
    {
     "name": "stderr",
     "output_type": "stream",
     "text": [
      "2023-09-07 16:26:42.946266: W tensorflow/tsl/framework/cpu_allocator_impl.cc:83] Allocation of 172480000 exceeds 10% of free system memory.\n"
     ]
    },
    {
     "name": "stdout",
     "output_type": "stream",
     "text": [
      "1719/1719 [==============================] - 7s 4ms/step - loss: 0.7039 - sparse_categorical_accuracy: 0.7665 - val_loss: 0.5040 - val_sparse_categorical_accuracy: 0.8266\n",
      "Epoch 2/30\n",
      "1719/1719 [==============================] - 6s 3ms/step - loss: 0.4837 - sparse_categorical_accuracy: 0.8332 - val_loss: 0.4541 - val_sparse_categorical_accuracy: 0.8378\n",
      "Epoch 3/30\n",
      "1719/1719 [==============================] - 6s 3ms/step - loss: 0.4375 - sparse_categorical_accuracy: 0.8472 - val_loss: 0.4211 - val_sparse_categorical_accuracy: 0.8534\n",
      "Epoch 4/30\n",
      "1719/1719 [==============================] - 6s 3ms/step - loss: 0.4130 - sparse_categorical_accuracy: 0.8559 - val_loss: 0.3934 - val_sparse_categorical_accuracy: 0.8636\n",
      "Epoch 5/30\n",
      "1719/1719 [==============================] - 6s 4ms/step - loss: 0.3922 - sparse_categorical_accuracy: 0.8629 - val_loss: 0.3899 - val_sparse_categorical_accuracy: 0.8624\n",
      "Epoch 6/30\n",
      "1719/1719 [==============================] - 6s 3ms/step - loss: 0.3754 - sparse_categorical_accuracy: 0.8676 - val_loss: 0.3968 - val_sparse_categorical_accuracy: 0.8618\n",
      "Epoch 7/30\n",
      "1719/1719 [==============================] - 6s 4ms/step - loss: 0.3631 - sparse_categorical_accuracy: 0.8714 - val_loss: 0.3705 - val_sparse_categorical_accuracy: 0.8692\n",
      "Epoch 8/30\n",
      "1719/1719 [==============================] - 6s 3ms/step - loss: 0.3517 - sparse_categorical_accuracy: 0.8764 - val_loss: 0.3701 - val_sparse_categorical_accuracy: 0.8642\n",
      "Epoch 9/30\n",
      "1719/1719 [==============================] - 6s 3ms/step - loss: 0.3408 - sparse_categorical_accuracy: 0.8798 - val_loss: 0.3498 - val_sparse_categorical_accuracy: 0.8750\n",
      "Epoch 10/30\n",
      "1719/1719 [==============================] - 6s 3ms/step - loss: 0.3310 - sparse_categorical_accuracy: 0.8823 - val_loss: 0.3552 - val_sparse_categorical_accuracy: 0.8734\n",
      "Epoch 11/30\n",
      "1719/1719 [==============================] - 6s 3ms/step - loss: 0.3226 - sparse_categorical_accuracy: 0.8853 - val_loss: 0.3634 - val_sparse_categorical_accuracy: 0.8672\n",
      "Epoch 12/30\n",
      "1719/1719 [==============================] - 6s 4ms/step - loss: 0.3149 - sparse_categorical_accuracy: 0.8869 - val_loss: 0.3477 - val_sparse_categorical_accuracy: 0.8720\n",
      "Epoch 13/30\n",
      "1719/1719 [==============================] - 6s 4ms/step - loss: 0.3076 - sparse_categorical_accuracy: 0.8907 - val_loss: 0.3322 - val_sparse_categorical_accuracy: 0.8788\n",
      "Epoch 14/30\n",
      "1719/1719 [==============================] - 6s 3ms/step - loss: 0.3009 - sparse_categorical_accuracy: 0.8928 - val_loss: 0.3407 - val_sparse_categorical_accuracy: 0.8796\n",
      "Epoch 15/30\n",
      "1719/1719 [==============================] - 6s 3ms/step - loss: 0.2948 - sparse_categorical_accuracy: 0.8949 - val_loss: 0.3363 - val_sparse_categorical_accuracy: 0.8804\n",
      "Epoch 16/30\n",
      "1719/1719 [==============================] - 6s 4ms/step - loss: 0.2877 - sparse_categorical_accuracy: 0.8964 - val_loss: 0.3322 - val_sparse_categorical_accuracy: 0.8782\n",
      "Epoch 17/30\n",
      "1719/1719 [==============================] - 6s 3ms/step - loss: 0.2832 - sparse_categorical_accuracy: 0.8991 - val_loss: 0.3372 - val_sparse_categorical_accuracy: 0.8792\n",
      "Epoch 18/30\n",
      "1719/1719 [==============================] - 6s 3ms/step - loss: 0.2769 - sparse_categorical_accuracy: 0.9011 - val_loss: 0.3254 - val_sparse_categorical_accuracy: 0.8838\n",
      "Epoch 19/30\n",
      "1719/1719 [==============================] - 6s 3ms/step - loss: 0.2726 - sparse_categorical_accuracy: 0.9021 - val_loss: 0.3539 - val_sparse_categorical_accuracy: 0.8696\n",
      "Epoch 20/30\n",
      "1719/1719 [==============================] - 6s 3ms/step - loss: 0.2676 - sparse_categorical_accuracy: 0.9053 - val_loss: 0.3220 - val_sparse_categorical_accuracy: 0.8786\n",
      "Epoch 21/30\n",
      "1719/1719 [==============================] - 6s 3ms/step - loss: 0.2628 - sparse_categorical_accuracy: 0.9059 - val_loss: 0.3164 - val_sparse_categorical_accuracy: 0.8850\n",
      "Epoch 22/30\n",
      "1719/1719 [==============================] - 6s 4ms/step - loss: 0.2581 - sparse_categorical_accuracy: 0.9064 - val_loss: 0.3168 - val_sparse_categorical_accuracy: 0.8818\n",
      "Epoch 23/30\n",
      "1719/1719 [==============================] - 6s 3ms/step - loss: 0.2536 - sparse_categorical_accuracy: 0.9094 - val_loss: 0.3379 - val_sparse_categorical_accuracy: 0.8754\n",
      "Epoch 24/30\n",
      "1719/1719 [==============================] - 6s 3ms/step - loss: 0.2485 - sparse_categorical_accuracy: 0.9112 - val_loss: 0.3221 - val_sparse_categorical_accuracy: 0.8832\n",
      "Epoch 25/30\n",
      "1719/1719 [==============================] - 6s 4ms/step - loss: 0.2447 - sparse_categorical_accuracy: 0.9120 - val_loss: 0.3182 - val_sparse_categorical_accuracy: 0.8868\n",
      "Epoch 26/30\n",
      "1719/1719 [==============================] - 6s 3ms/step - loss: 0.2404 - sparse_categorical_accuracy: 0.9141 - val_loss: 0.3118 - val_sparse_categorical_accuracy: 0.8854\n",
      "Epoch 27/30\n",
      "1719/1719 [==============================] - 6s 3ms/step - loss: 0.2359 - sparse_categorical_accuracy: 0.9152 - val_loss: 0.3237 - val_sparse_categorical_accuracy: 0.8842\n",
      "Epoch 28/30\n",
      "1719/1719 [==============================] - 6s 4ms/step - loss: 0.2329 - sparse_categorical_accuracy: 0.9174 - val_loss: 0.3125 - val_sparse_categorical_accuracy: 0.8910\n",
      "Epoch 29/30\n",
      "1719/1719 [==============================] - 6s 3ms/step - loss: 0.2287 - sparse_categorical_accuracy: 0.9178 - val_loss: 0.3113 - val_sparse_categorical_accuracy: 0.8864\n",
      "Epoch 30/30\n",
      "1719/1719 [==============================] - 6s 4ms/step - loss: 0.2255 - sparse_categorical_accuracy: 0.9189 - val_loss: 0.3134 - val_sparse_categorical_accuracy: 0.8860\n"
     ]
    }
   ],
   "source": [
    "history = model.fit(X_train, y_train, epochs=30,\n",
    "                    validation_data=(X_valid, y_valid))"
   ]
  },
  {
   "cell_type": "code",
   "execution_count": 42,
   "id": "21d6be13-321a-4a06-a709-f1b4f133d0f7",
   "metadata": {},
   "outputs": [
    {
     "data": {
      "text/plain": [
       "{'verbose': 1, 'epochs': 30, 'steps': 1719}"
      ]
     },
     "execution_count": 42,
     "metadata": {},
     "output_type": "execute_result"
    }
   ],
   "source": [
    "history.params"
   ]
  },
  {
   "cell_type": "code",
   "execution_count": 43,
   "id": "4d2ab306-f607-4241-ac07-8db5c678e6e9",
   "metadata": {},
   "outputs": [
    {
     "name": "stdout",
     "output_type": "stream",
     "text": [
      "[0, 1, 2, 3, 4, 5, 6, 7, 8, 9, 10, 11, 12, 13, 14, 15, 16, 17, 18, 19, 20, 21, 22, 23, 24, 25, 26, 27, 28, 29]\n"
     ]
    }
   ],
   "source": [
    "print(history.epoch)"
   ]
  },
  {
   "cell_type": "code",
   "execution_count": 44,
   "id": "1637b9a3-54e1-4bb2-b70c-4f8cec6ddf35",
   "metadata": {},
   "outputs": [
    {
     "data": {
      "image/png": "[encoded data removed]",
      "text/plain": [
       "<Figure size 800x500 with 1 Axes>"
      ]
     },
     "metadata": {},
     "output_type": "display_data"
    }
   ],
   "source": [
    "import matplotlib.pyplot as plt\n",
    "import pandas as pd\n",
    "\n",
    "pd.DataFrame(history.history).plot(\n",
    "    figsize=(8, 5), xlim=[0, 29], ylim=[0, 1], grid=True, xlabel=\"Epoch\",\n",
    "    style=[\"r--\", \"r--.\", \"b-\", \"b-*\"])\n",
    "plt.legend(loc=\"lower left\")  # extra code\n",
    "save_fig(\"keras_learning_curves_plot\")  # extra code\n",
    "plt.show()"
   ]
  },
  {
   "cell_type": "code",
   "execution_count": 45,
   "id": "fac3a942-8c2d-49ab-a4b5-83e518d278a3",
   "metadata": {},
   "outputs": [
    {
     "data": {
      "image/png": "[encoded data removed]",
      "text/plain": [
       "<Figure size 800x500 with 1 Axes>"
      ]
     },
     "metadata": {},
     "output_type": "display_data"
    }
   ],
   "source": [
    "# extra code – shows how to shift the training curve by -1/2 epoch\n",
    "plt.figure(figsize=(8, 5))\n",
    "for key, style in zip(history.history, [\"r--\", \"r--.\", \"b-\", \"b-*\"]):\n",
    "    epochs = np.array(history.epoch) + (0 if key.startswith(\"val_\") else -0.5)\n",
    "    plt.plot(epochs, history.history[key], style, label=key)\n",
    "plt.xlabel(\"Epoch\")\n",
    "plt.axis([-0.5, 29, 0., 1])\n",
    "plt.legend(loc=\"lower left\")\n",
    "plt.grid()\n",
    "plt.show()"
   ]
  },
  {
   "cell_type": "code",
   "execution_count": 46,
   "id": "516b9c31-2729-46d5-a5cf-c9bcd7ecea1f",
   "metadata": {},
   "outputs": [
    {
     "name": "stdout",
     "output_type": "stream",
     "text": [
      "313/313 [==============================] - 1s 2ms/step - loss: 0.3264 - sparse_categorical_accuracy: 0.8835\n"
     ]
    },
    {
     "data": {
      "text/plain": [
       "[0.32636260986328125, 0.8834999799728394]"
      ]
     },
     "execution_count": 46,
     "metadata": {},
     "output_type": "execute_result"
    }
   ],
   "source": [
    "model.evaluate(X_test, y_test)"
   ]
  },
  {
   "cell_type": "markdown",
   "id": "978ca95f-2c79-4a1f-97fb-e3106816f53d",
   "metadata": {},
   "source": [
    "### Using the model to make predictions"
   ]
  },
  {
   "cell_type": "code",
   "execution_count": 47,
   "id": "f9501feb-ec7a-409e-95f6-cf62a51d8219",
   "metadata": {},
   "outputs": [
    {
     "name": "stdout",
     "output_type": "stream",
     "text": [
      "1/1 [==============================] - 0s 113ms/step\n"
     ]
    },
    {
     "data": {
      "text/plain": [
       "array([[0.  , 0.  , 0.  , 0.  , 0.  , 0.01, 0.  , 0.04, 0.  , 0.95],\n",
       "       [0.  , 0.  , 1.  , 0.  , 0.  , 0.  , 0.  , 0.  , 0.  , 0.  ],\n",
       "       [0.  , 1.  , 0.  , 0.  , 0.  , 0.  , 0.  , 0.  , 0.  , 0.  ]],\n",
       "      dtype=float32)"
      ]
     },
     "execution_count": 47,
     "metadata": {},
     "output_type": "execute_result"
    }
   ],
   "source": [
    "X_new = X_test[:3]\n",
    "y_proba = model.predict(X_new)\n",
    "y_proba.round(2)"
   ]
  },
  {
   "cell_type": "code",
   "execution_count": 48,
   "id": "ffd8e14f-d2d3-41f2-bff2-af215de96ebe",
   "metadata": {},
   "outputs": [
    {
     "data": {
      "text/plain": [
       "array([9, 2, 1])"
      ]
     },
     "execution_count": 48,
     "metadata": {},
     "output_type": "execute_result"
    }
   ],
   "source": [
    "y_pred = y_proba.argmax(axis=-1)\n",
    "y_pred"
   ]
  },
  {
   "cell_type": "code",
   "execution_count": 49,
   "id": "ee482f29-13cc-422c-9667-f554ec392670",
   "metadata": {},
   "outputs": [
    {
     "data": {
      "text/plain": [
       "array(['Ankle boot', 'Pullover', 'Trouser'], dtype='<U11')"
      ]
     },
     "execution_count": 49,
     "metadata": {},
     "output_type": "execute_result"
    }
   ],
   "source": [
    "np.array(class_names)[y_pred]"
   ]
  },
  {
   "cell_type": "code",
   "execution_count": 50,
   "id": "f4ee16cd-ff07-4136-b38d-4285bb622e04",
   "metadata": {},
   "outputs": [
    {
     "data": {
      "text/plain": [
       "array([9, 2, 1], dtype=uint8)"
      ]
     },
     "execution_count": 50,
     "metadata": {},
     "output_type": "execute_result"
    }
   ],
   "source": [
    "y_new = y_test[:3]\n",
    "y_new"
   ]
  },
  {
   "cell_type": "code",
   "execution_count": 51,
   "id": "0b36cb2d-b74e-4b79-90f4-bca1ce4f930d",
   "metadata": {},
   "outputs": [
    {
     "data": {
      "image/png": "[encoded data removed]",
      "text/plain": [
       "<Figure size 720x240 with 3 Axes>"
      ]
     },
     "metadata": {},
     "output_type": "display_data"
    }
   ],
   "source": [
    "# extra code – this cell generates and saves Figure 10–12\n",
    "plt.figure(figsize=(7.2, 2.4))\n",
    "for index, image in enumerate(X_new):\n",
    "    plt.subplot(1, 3, index + 1)\n",
    "    plt.imshow(image, cmap=\"binary\", interpolation=\"nearest\")\n",
    "    plt.axis('off')\n",
    "    plt.title(class_names[y_test[index]])\n",
    "plt.subplots_adjust(wspace=0.2, hspace=0.5)\n",
    "save_fig('fashion_mnist_images_plot', tight_layout=False)\n",
    "plt.show()"
   ]
  },
  {
   "cell_type": "markdown",
   "id": "548dd1dc-2025-4083-9e96-c9ff5ef6c034",
   "metadata": {},
   "source": [
    "## Building a Regression MLP Using the Sequential API"
   ]
  },
  {
   "cell_type": "markdown",
   "id": "832d13a0-fbc5-4b40-bab3-6facaefefa12",
   "metadata": {},
   "source": [
    "Let's load, split and scale the California housing dataset (the original one, not the modified one as in chapter 2):"
   ]
  },
  {
   "cell_type": "code",
   "execution_count": 54,
   "id": "511cdf65-b14e-432e-8006-a4ca18349ec0",
   "metadata": {},
   "outputs": [],
   "source": [
    "from sklearn.datasets import fetch_california_housing\n",
    "from sklearn.model_selection import train_test_split\n",
    "\n",
    "# extra code – load and split the California housing dataset, like earlier\n",
    "housing = fetch_california_housing()\n",
    "X_train_full, X_test, y_train_full, y_test = train_test_split(\n",
    "    housing.data, housing.target, random_state=42)\n",
    "X_train, X_valid, y_train, y_valid = train_test_split(\n",
    "    X_train_full, y_train_full, random_state=42)"
   ]
  },
  {
   "cell_type": "code",
   "execution_count": 55,
   "id": "980f7aeb-87ba-47e3-834b-524f166acb67",
   "metadata": {},
   "outputs": [
    {
     "name": "stdout",
     "output_type": "stream",
     "text": [
      "Epoch 1/20\n",
      "363/363 [==============================] - 2s 3ms/step - loss: 0.9497 - root_mean_squared_error: 0.9745 - val_loss: 0.3854 - val_root_mean_squared_error: 0.6208\n",
      "Epoch 2/20\n",
      "363/363 [==============================] - 1s 3ms/step - loss: 0.3891 - root_mean_squared_error: 0.6238 - val_loss: 2.1597 - val_root_mean_squared_error: 1.4696\n",
      "Epoch 3/20\n",
      "363/363 [==============================] - 1s 3ms/step - loss: 0.3712 - root_mean_squared_error: 0.6092 - val_loss: 0.3293 - val_root_mean_squared_error: 0.5738\n",
      "Epoch 4/20\n",
      "363/363 [==============================] - 1s 3ms/step - loss: 0.3406 - root_mean_squared_error: 0.5836 - val_loss: 0.6901 - val_root_mean_squared_error: 0.8307\n",
      "Epoch 5/20\n",
      "363/363 [==============================] - 1s 3ms/step - loss: 0.3300 - root_mean_squared_error: 0.5745 - val_loss: 1.5604 - val_root_mean_squared_error: 1.2491\n",
      "Epoch 6/20\n",
      "363/363 [==============================] - 1s 3ms/step - loss: 0.3342 - root_mean_squared_error: 0.5781 - val_loss: 1.2631 - val_root_mean_squared_error: 1.1239\n",
      "Epoch 7/20\n",
      "363/363 [==============================] - 1s 3ms/step - loss: 0.3206 - root_mean_squared_error: 0.5662 - val_loss: 3.2558 - val_root_mean_squared_error: 1.8044\n",
      "Epoch 8/20\n",
      "363/363 [==============================] - 1s 3ms/step - loss: 0.3170 - root_mean_squared_error: 0.5630 - val_loss: 2.9851 - val_root_mean_squared_error: 1.7278\n",
      "Epoch 9/20\n",
      "363/363 [==============================] - 1s 3ms/step - loss: 0.3199 - root_mean_squared_error: 0.5656 - val_loss: 1.2109 - val_root_mean_squared_error: 1.1004\n",
      "Epoch 10/20\n",
      "363/363 [==============================] - 1s 2ms/step - loss: 0.3038 - root_mean_squared_error: 0.5511 - val_loss: 0.3045 - val_root_mean_squared_error: 0.5518\n",
      "Epoch 11/20\n",
      "363/363 [==============================] - 1s 2ms/step - loss: 0.2904 - root_mean_squared_error: 0.5389 - val_loss: 0.3042 - val_root_mean_squared_error: 0.5515\n",
      "Epoch 12/20\n",
      "363/363 [==============================] - 1s 3ms/step - loss: 0.2964 - root_mean_squared_error: 0.5445 - val_loss: 0.5312 - val_root_mean_squared_error: 0.7288\n",
      "Epoch 13/20\n",
      "363/363 [==============================] - 1s 3ms/step - loss: 0.2871 - root_mean_squared_error: 0.5358 - val_loss: 0.4105 - val_root_mean_squared_error: 0.6407\n",
      "Epoch 14/20\n",
      "363/363 [==============================] - 1s 3ms/step - loss: 0.2854 - root_mean_squared_error: 0.5342 - val_loss: 0.6585 - val_root_mean_squared_error: 0.8115\n",
      "Epoch 15/20\n",
      "363/363 [==============================] - 1s 3ms/step - loss: 0.2854 - root_mean_squared_error: 0.5343 - val_loss: 0.5249 - val_root_mean_squared_error: 0.7245\n",
      "Epoch 16/20\n",
      "363/363 [==============================] - 1s 3ms/step - loss: 0.2812 - root_mean_squared_error: 0.5302 - val_loss: 1.0951 - val_root_mean_squared_error: 1.0465\n",
      "Epoch 17/20\n",
      "363/363 [==============================] - 1s 3ms/step - loss: 0.2868 - root_mean_squared_error: 0.5356 - val_loss: 0.8290 - val_root_mean_squared_error: 0.9105\n",
      "Epoch 18/20\n",
      "363/363 [==============================] - 1s 3ms/step - loss: 0.2791 - root_mean_squared_error: 0.5283 - val_loss: 1.4650 - val_root_mean_squared_error: 1.2104\n",
      "Epoch 19/20\n",
      "363/363 [==============================] - 1s 3ms/step - loss: 0.2761 - root_mean_squared_error: 0.5255 - val_loss: 0.3216 - val_root_mean_squared_error: 0.5671\n",
      "Epoch 20/20\n",
      "363/363 [==============================] - 1s 3ms/step - loss: 0.2729 - root_mean_squared_error: 0.5224 - val_loss: 0.5401 - val_root_mean_squared_error: 0.7349\n",
      "162/162 [==============================] - 0s 2ms/step - loss: 0.2850 - root_mean_squared_error: 0.5338\n",
      "1/1 [==============================] - 0s 146ms/step\n"
     ]
    }
   ],
   "source": [
    "tf.random.set_seed(42)\n",
    "norm_layer = tf.keras.layers.Normalization(input_shape=X_train.shape[1:])\n",
    "model = tf.keras.Sequential([\n",
    "    norm_layer,\n",
    "    tf.keras.layers.Dense(50, activation=\"relu\"),\n",
    "    tf.keras.layers.Dense(50, activation=\"relu\"),\n",
    "    tf.keras.layers.Dense(50, activation=\"relu\"),\n",
    "    tf.keras.layers.Dense(1)\n",
    "])\n",
    "optimizer = tf.keras.optimizers.Adam(learning_rate=1e-3)\n",
    "model.compile(loss=\"mse\", optimizer=optimizer, metrics=[\"RootMeanSquaredError\"])\n",
    "norm_layer.adapt(X_train)\n",
    "history = model.fit(X_train, y_train, epochs=20,\n",
    "                    validation_data=(X_valid, y_valid))\n",
    "mse_test, rmse_test = model.evaluate(X_test, y_test)\n",
    "X_new = X_test[:3]\n",
    "y_pred = model.predict(X_new)"
   ]
  },
  {
   "cell_type": "code",
   "execution_count": 56,
   "id": "e8c332f3-65a8-4b82-92c4-acb50ed78806",
   "metadata": {},
   "outputs": [
    {
     "data": {
      "text/plain": [
       "0.5338489413261414"
      ]
     },
     "execution_count": 56,
     "metadata": {},
     "output_type": "execute_result"
    }
   ],
   "source": [
    "rmse_test"
   ]
  },
  {
   "cell_type": "code",
   "execution_count": 57,
   "id": "585f8e36-0ade-41ef-82ce-915e16715666",
   "metadata": {},
   "outputs": [
    {
     "data": {
      "text/plain": [
       "array([[0.3977738],\n",
       "       [1.1799092],\n",
       "       [5.001514 ]], dtype=float32)"
      ]
     },
     "execution_count": 57,
     "metadata": {},
     "output_type": "execute_result"
    }
   ],
   "source": [
    "y_pred"
   ]
  },
  {
   "cell_type": "markdown",
   "id": "9997cf80-2f1f-4a53-b9ff-76d89cf00996",
   "metadata": {},
   "source": [
    "## Building Complex Models Using the Functional API"
   ]
  },
  {
   "cell_type": "markdown",
   "id": "2ea49c3f-7156-467b-b4d4-1bfcbc7ad3b6",
   "metadata": {},
   "source": [
    "Not all neural network models are simply sequential. Some may have complex topologies. Some may have multiple inputs and/or multiple outputs. For example, a Wide & Deep neural network (see paper) connects all or part of the inputs directly to the output layer."
   ]
  },
  {
   "cell_type": "code",
   "execution_count": 58,
   "id": "23bf8902-5a0b-4cf8-ab42-e5fffbe7aa30",
   "metadata": {},
   "outputs": [],
   "source": [
    "# extra code – reset the name counters and make the code reproducible\n",
    "tf.keras.backend.clear_session()\n",
    "tf.random.set_seed(42)"
   ]
  },
  {
   "cell_type": "code",
   "execution_count": 59,
   "id": "7679bae7-9511-4383-84cc-037a2a12000f",
   "metadata": {},
   "outputs": [],
   "source": [
    "normalization_layer = tf.keras.layers.Normalization()\n",
    "hidden_layer1 = tf.keras.layers.Dense(30, activation=\"relu\")\n",
    "hidden_layer2 = tf.keras.layers.Dense(30, activation=\"relu\")\n",
    "concat_layer = tf.keras.layers.Concatenate()\n",
    "output_layer = tf.keras.layers.Dense(1)\n",
    "\n",
    "input_ = tf.keras.layers.Input(shape=X_train.shape[1:])\n",
    "normalized = normalization_layer(input_)\n",
    "hidden1 = hidden_layer1(normalized)\n",
    "hidden2 = hidden_layer2(hidden1)\n",
    "concat = concat_layer([normalized, hidden2])\n",
    "output = output_layer(concat)\n",
    "\n",
    "model = tf.keras.Model(inputs=[input_], outputs=[output])"
   ]
  },
  {
   "cell_type": "code",
   "execution_count": 60,
   "id": "b4a9135f-9a93-428b-8ba9-e1165783df41",
   "metadata": {},
   "outputs": [
    {
     "name": "stdout",
     "output_type": "stream",
     "text": [
      "Model: \"model\"\n",
      "__________________________________________________________________________________________________\n",
      " Layer (type)                Output Shape                 Param #   Connected to                  \n",
      "==================================================================================================\n",
      " input_1 (InputLayer)        [(None, 8)]                  0         []                            \n",
      "                                                                                                  \n",
      " normalization (Normalizati  (None, 8)                    17        ['input_1[0][0]']             \n",
      " on)                                                                                              \n",
      "                                                                                                  \n",
      " dense (Dense)               (None, 30)                   270       ['normalization[0][0]']       \n",
      "                                                                                                  \n",
      " dense_1 (Dense)             (None, 30)                   930       ['dense[0][0]']               \n",
      "                                                                                                  \n",
      " concatenate (Concatenate)   (None, 38)                   0         ['normalization[0][0]',       \n",
      "                                                                     'dense_1[0][0]']             \n",
      "                                                                                                  \n",
      " dense_2 (Dense)             (None, 1)                    39        ['concatenate[0][0]']         \n",
      "                                                                                                  \n",
      "==================================================================================================\n",
      "Total params: 1256 (4.91 KB)\n",
      "Trainable params: 1239 (4.84 KB)\n",
      "Non-trainable params: 17 (72.00 Byte)\n",
      "__________________________________________________________________________________________________\n"
     ]
    }
   ],
   "source": [
    "model.summary()"
   ]
  },
  {
   "cell_type": "code",
   "execution_count": 61,
   "id": "160e03b8-91fe-449f-9d4c-5da39ca0a4d7",
   "metadata": {},
   "outputs": [
    {
     "name": "stdout",
     "output_type": "stream",
     "text": [
      "Epoch 1/20\n",
      "363/363 [==============================] - 2s 3ms/step - loss: 1.1967 - root_mean_squared_error: 1.0940 - val_loss: 1.4371 - val_root_mean_squared_error: 1.1988\n",
      "Epoch 2/20\n",
      "363/363 [==============================] - 1s 2ms/step - loss: 0.4851 - root_mean_squared_error: 0.6965 - val_loss: 1.7779 - val_root_mean_squared_error: 1.3334\n",
      "Epoch 3/20\n",
      "363/363 [==============================] - 1s 2ms/step - loss: 0.4191 - root_mean_squared_error: 0.6473 - val_loss: 0.8257 - val_root_mean_squared_error: 0.9087\n",
      "Epoch 4/20\n",
      "363/363 [==============================] - 1s 3ms/step - loss: 0.3755 - root_mean_squared_error: 0.6128 - val_loss: 1.0212 - val_root_mean_squared_error: 1.0105\n",
      "Epoch 5/20\n",
      "363/363 [==============================] - 1s 3ms/step - loss: 0.3644 - root_mean_squared_error: 0.6037 - val_loss: 2.5732 - val_root_mean_squared_error: 1.6041\n",
      "Epoch 6/20\n",
      "363/363 [==============================] - 1s 3ms/step - loss: 0.3656 - root_mean_squared_error: 0.6047 - val_loss: 2.8552 - val_root_mean_squared_error: 1.6897\n",
      "Epoch 7/20\n",
      "363/363 [==============================] - 1s 2ms/step - loss: 0.3646 - root_mean_squared_error: 0.6038 - val_loss: 1.3105 - val_root_mean_squared_error: 1.1448\n",
      "Epoch 8/20\n",
      "363/363 [==============================] - 1s 3ms/step - loss: 0.3384 - root_mean_squared_error: 0.5817 - val_loss: 1.3340 - val_root_mean_squared_error: 1.1550\n",
      "Epoch 9/20\n",
      "363/363 [==============================] - 1s 3ms/step - loss: 0.3369 - root_mean_squared_error: 0.5804 - val_loss: 1.4501 - val_root_mean_squared_error: 1.2042\n",
      "Epoch 10/20\n",
      "363/363 [==============================] - 1s 3ms/step - loss: 0.3381 - root_mean_squared_error: 0.5815 - val_loss: 1.7265 - val_root_mean_squared_error: 1.3139\n",
      "Epoch 11/20\n",
      "363/363 [==============================] - 1s 2ms/step - loss: 0.3301 - root_mean_squared_error: 0.5746 - val_loss: 0.8719 - val_root_mean_squared_error: 0.9337\n",
      "Epoch 12/20\n",
      "363/363 [==============================] - 1s 2ms/step - loss: 0.3420 - root_mean_squared_error: 0.5848 - val_loss: 1.5846 - val_root_mean_squared_error: 1.2588\n",
      "Epoch 13/20\n",
      "363/363 [==============================] - 1s 2ms/step - loss: 0.3274 - root_mean_squared_error: 0.5722 - val_loss: 0.6512 - val_root_mean_squared_error: 0.8070\n",
      "Epoch 14/20\n",
      "363/363 [==============================] - 1s 3ms/step - loss: 0.3141 - root_mean_squared_error: 0.5605 - val_loss: 0.5562 - val_root_mean_squared_error: 0.7458\n",
      "Epoch 15/20\n",
      "363/363 [==============================] - 1s 2ms/step - loss: 0.3131 - root_mean_squared_error: 0.5596 - val_loss: 0.8138 - val_root_mean_squared_error: 0.9021\n",
      "Epoch 16/20\n",
      "363/363 [==============================] - 1s 2ms/step - loss: 0.3097 - root_mean_squared_error: 0.5565 - val_loss: 0.9766 - val_root_mean_squared_error: 0.9882\n",
      "Epoch 17/20\n",
      "363/363 [==============================] - 1s 3ms/step - loss: 0.3160 - root_mean_squared_error: 0.5622 - val_loss: 1.7584 - val_root_mean_squared_error: 1.3260\n",
      "Epoch 18/20\n",
      "363/363 [==============================] - 1s 3ms/step - loss: 0.3116 - root_mean_squared_error: 0.5582 - val_loss: 2.3847 - val_root_mean_squared_error: 1.5443\n",
      "Epoch 19/20\n",
      "363/363 [==============================] - 1s 3ms/step - loss: 0.3172 - root_mean_squared_error: 0.5632 - val_loss: 1.4413 - val_root_mean_squared_error: 1.2005\n",
      "Epoch 20/20\n",
      "363/363 [==============================] - 1s 3ms/step - loss: 0.3115 - root_mean_squared_error: 0.5581 - val_loss: 1.3934 - val_root_mean_squared_error: 1.1804\n",
      "162/162 [==============================] - 0s 2ms/step - loss: 0.3082 - root_mean_squared_error: 0.5552\n",
      "1/1 [==============================] - 0s 97ms/step\n"
     ]
    }
   ],
   "source": [
    "optimizer = tf.keras.optimizers.Adam(learning_rate=1e-3)\n",
    "model.compile(loss=\"mse\", optimizer=optimizer, metrics=[\"RootMeanSquaredError\"])\n",
    "normalization_layer.adapt(X_train)\n",
    "history = model.fit(X_train, y_train, epochs=20,\n",
    "                    validation_data=(X_valid, y_valid))\n",
    "mse_test = model.evaluate(X_test, y_test)\n",
    "y_pred = model.predict(X_new)"
   ]
  },
  {
   "cell_type": "markdown",
   "id": "ec07d8e6-ddcd-4268-bc27-e2a7bcf99c5f",
   "metadata": {},
   "source": [
    "What if you want to send different subsets of input features through the wide or deep paths? We will send 5 features (features 0 to 4), and 6 through the deep path (features 2 to 7). Note that 3 features will go through both (features 2, 3 and 4)."
   ]
  },
  {
   "cell_type": "code",
   "execution_count": 62,
   "id": "46d1123f-f9d5-4722-8578-1c5ddc410c43",
   "metadata": {},
   "outputs": [],
   "source": [
    "tf.random.set_seed(42)  # extra code"
   ]
  },
  {
   "cell_type": "code",
   "execution_count": 63,
   "id": "9369689d-e785-410e-8cfa-4b43eaa4608a",
   "metadata": {},
   "outputs": [],
   "source": [
    "input_wide = tf.keras.layers.Input(shape=[5])  # features 0 to 4\n",
    "input_deep = tf.keras.layers.Input(shape=[6])  # features 2 to 7\n",
    "norm_layer_wide = tf.keras.layers.Normalization()\n",
    "norm_layer_deep = tf.keras.layers.Normalization()\n",
    "norm_wide = norm_layer_wide(input_wide)\n",
    "norm_deep = norm_layer_deep(input_deep)\n",
    "hidden1 = tf.keras.layers.Dense(30, activation=\"relu\")(norm_deep)\n",
    "hidden2 = tf.keras.layers.Dense(30, activation=\"relu\")(hidden1)\n",
    "concat = tf.keras.layers.concatenate([norm_wide, hidden2])\n",
    "output = tf.keras.layers.Dense(1)(concat)\n",
    "model = tf.keras.Model(inputs=[input_wide, input_deep], outputs=[output])"
   ]
  },
  {
   "cell_type": "code",
   "execution_count": 64,
   "id": "d6919266-b96b-484f-8cbf-2a6ff2dd5a92",
   "metadata": {},
   "outputs": [
    {
     "name": "stdout",
     "output_type": "stream",
     "text": [
      "Epoch 1/20\n",
      "363/363 [==============================] - 2s 3ms/step - loss: 1.0160 - root_mean_squared_error: 1.0080 - val_loss: 1.2833 - val_root_mean_squared_error: 1.1328\n",
      "Epoch 2/20\n",
      "363/363 [==============================] - 1s 3ms/step - loss: 0.4665 - root_mean_squared_error: 0.6830 - val_loss: 0.7683 - val_root_mean_squared_error: 0.8765\n",
      "Epoch 3/20\n",
      "363/363 [==============================] - 1s 3ms/step - loss: 0.4215 - root_mean_squared_error: 0.6492 - val_loss: 0.4155 - val_root_mean_squared_error: 0.6446\n",
      "Epoch 4/20\n",
      "363/363 [==============================] - 1s 3ms/step - loss: 0.3996 - root_mean_squared_error: 0.6321 - val_loss: 0.3778 - val_root_mean_squared_error: 0.6147\n",
      "Epoch 5/20\n",
      "363/363 [==============================] - 1s 3ms/step - loss: 0.3920 - root_mean_squared_error: 0.6261 - val_loss: 0.3513 - val_root_mean_squared_error: 0.5927\n",
      "Epoch 6/20\n",
      "363/363 [==============================] - 1s 3ms/step - loss: 0.3729 - root_mean_squared_error: 0.6106 - val_loss: 0.4624 - val_root_mean_squared_error: 0.6800\n",
      "Epoch 7/20\n",
      "363/363 [==============================] - 1s 3ms/step - loss: 0.3692 - root_mean_squared_error: 0.6076 - val_loss: 0.4442 - val_root_mean_squared_error: 0.6665\n",
      "Epoch 8/20\n",
      "363/363 [==============================] - 1s 3ms/step - loss: 0.3632 - root_mean_squared_error: 0.6026 - val_loss: 0.9296 - val_root_mean_squared_error: 0.9641\n",
      "Epoch 9/20\n",
      "363/363 [==============================] - 1s 3ms/step - loss: 0.3589 - root_mean_squared_error: 0.5991 - val_loss: 1.2437 - val_root_mean_squared_error: 1.1152\n",
      "Epoch 10/20\n",
      "363/363 [==============================] - 1s 3ms/step - loss: 0.3684 - root_mean_squared_error: 0.6070 - val_loss: 3.8846 - val_root_mean_squared_error: 1.9709\n",
      "Epoch 11/20\n",
      "363/363 [==============================] - 1s 3ms/step - loss: 0.3635 - root_mean_squared_error: 0.6029 - val_loss: 1.5933 - val_root_mean_squared_error: 1.2623\n",
      "Epoch 12/20\n",
      "363/363 [==============================] - 1s 3ms/step - loss: 0.3885 - root_mean_squared_error: 0.6233 - val_loss: 0.8562 - val_root_mean_squared_error: 0.9253\n",
      "Epoch 13/20\n",
      "363/363 [==============================] - 1s 3ms/step - loss: 0.3486 - root_mean_squared_error: 0.5904 - val_loss: 0.3572 - val_root_mean_squared_error: 0.5976\n",
      "Epoch 14/20\n",
      "363/363 [==============================] - 1s 3ms/step - loss: 0.3446 - root_mean_squared_error: 0.5870 - val_loss: 0.3648 - val_root_mean_squared_error: 0.6040\n",
      "Epoch 15/20\n",
      "363/363 [==============================] - 1s 2ms/step - loss: 0.3413 - root_mean_squared_error: 0.5842 - val_loss: 0.3294 - val_root_mean_squared_error: 0.5740\n",
      "Epoch 16/20\n",
      "363/363 [==============================] - 1s 2ms/step - loss: 0.3354 - root_mean_squared_error: 0.5791 - val_loss: 0.3454 - val_root_mean_squared_error: 0.5877\n",
      "Epoch 17/20\n",
      "363/363 [==============================] - 1s 3ms/step - loss: 0.3366 - root_mean_squared_error: 0.5802 - val_loss: 0.3314 - val_root_mean_squared_error: 0.5757\n",
      "Epoch 18/20\n",
      "363/363 [==============================] - 1s 3ms/step - loss: 0.3320 - root_mean_squared_error: 0.5762 - val_loss: 0.3728 - val_root_mean_squared_error: 0.6106\n",
      "Epoch 19/20\n",
      "363/363 [==============================] - 1s 3ms/step - loss: 0.3318 - root_mean_squared_error: 0.5761 - val_loss: 0.4064 - val_root_mean_squared_error: 0.6375\n",
      "Epoch 20/20\n",
      "363/363 [==============================] - 1s 2ms/step - loss: 0.3368 - root_mean_squared_error: 0.5804 - val_loss: 1.8478 - val_root_mean_squared_error: 1.3594\n",
      "162/162 [==============================] - 0s 2ms/step - loss: 0.3291 - root_mean_squared_error: 0.5736\n",
      "1/1 [==============================] - 0s 157ms/step\n"
     ]
    }
   ],
   "source": [
    "optimizer = tf.keras.optimizers.Adam(learning_rate=1e-3)\n",
    "model.compile(loss=\"mse\", optimizer=optimizer, metrics=[\"RootMeanSquaredError\"])\n",
    "\n",
    "X_train_wide, X_train_deep = X_train[:, :5], X_train[:, 2:]\n",
    "X_valid_wide, X_valid_deep = X_valid[:, :5], X_valid[:, 2:]\n",
    "X_test_wide, X_test_deep = X_test[:, :5], X_test[:, 2:]\n",
    "X_new_wide, X_new_deep = X_test_wide[:3], X_test_deep[:3]\n",
    "\n",
    "norm_layer_wide.adapt(X_train_wide)\n",
    "norm_layer_deep.adapt(X_train_deep)\n",
    "history = model.fit((X_train_wide, X_train_deep), y_train, epochs=20,\n",
    "                    validation_data=((X_valid_wide, X_valid_deep), y_valid))\n",
    "mse_test = model.evaluate((X_test_wide, X_test_deep), y_test)\n",
    "y_pred = model.predict((X_new_wide, X_new_deep))"
   ]
  },
  {
   "cell_type": "markdown",
   "id": "3f15bf09-1d95-44e6-add4-406a456d6048",
   "metadata": {},
   "source": [
    "Adding an auxiliary output for regularization:"
   ]
  },
  {
   "cell_type": "code",
   "execution_count": 65,
   "id": "58c81640-cdb4-4334-a77c-296eb1c3239c",
   "metadata": {},
   "outputs": [],
   "source": [
    "tf.keras.backend.clear_session()\n",
    "tf.random.set_seed(42)"
   ]
  },
  {
   "cell_type": "code",
   "execution_count": 66,
   "id": "3123d777-c898-4ff9-9e9e-225e1cd55dcf",
   "metadata": {},
   "outputs": [],
   "source": [
    "input_wide = tf.keras.layers.Input(shape=[5])  # features 0 to 4\n",
    "input_deep = tf.keras.layers.Input(shape=[6])  # features 2 to 7\n",
    "norm_layer_wide = tf.keras.layers.Normalization()\n",
    "norm_layer_deep = tf.keras.layers.Normalization()\n",
    "norm_wide = norm_layer_wide(input_wide)\n",
    "norm_deep = norm_layer_deep(input_deep)\n",
    "hidden1 = tf.keras.layers.Dense(30, activation=\"relu\")(norm_deep)\n",
    "hidden2 = tf.keras.layers.Dense(30, activation=\"relu\")(hidden1)\n",
    "concat = tf.keras.layers.concatenate([norm_wide, hidden2])\n",
    "output = tf.keras.layers.Dense(1)(concat)\n",
    "aux_output = tf.keras.layers.Dense(1)(hidden2)\n",
    "model = tf.keras.Model(inputs=[input_wide, input_deep],\n",
    "                       outputs=[output, aux_output])"
   ]
  },
  {
   "cell_type": "code",
   "execution_count": 67,
   "id": "97434608-d61a-4460-981e-a0b60e486ae9",
   "metadata": {},
   "outputs": [],
   "source": [
    "optimizer = tf.keras.optimizers.Adam(learning_rate=1e-3)\n",
    "model.compile(loss=(\"mse\", \"mse\"), loss_weights=(0.9, 0.1), optimizer=optimizer,\n",
    "              metrics=[\"RootMeanSquaredError\"])"
   ]
  },
  {
   "cell_type": "code",
   "execution_count": 68,
   "id": "d2d4f4d3-aa2b-49b8-a0a5-c0bfdb37f6b9",
   "metadata": {},
   "outputs": [
    {
     "name": "stdout",
     "output_type": "stream",
     "text": [
      "Epoch 1/20\n",
      "363/363 [==============================] - 3s 4ms/step - loss: 1.6660 - dense_2_loss: 1.6136 - dense_3_loss: 2.1374 - dense_2_root_mean_squared_error: 1.2703 - dense_3_root_mean_squared_error: 1.4620 - val_loss: 1.1401 - val_dense_2_loss: 0.7089 - val_dense_3_loss: 5.0212 - val_dense_2_root_mean_squared_error: 0.8419 - val_dense_3_root_mean_squared_error: 2.2408\n",
      "Epoch 2/20\n",
      "363/363 [==============================] - 1s 3ms/step - loss: 0.6176 - dense_2_loss: 0.5966 - dense_3_loss: 0.8063 - dense_2_root_mean_squared_error: 0.7724 - dense_3_root_mean_squared_error: 0.8979 - val_loss: 0.9720 - val_dense_2_loss: 0.7085 - val_dense_3_loss: 3.3438 - val_dense_2_root_mean_squared_error: 0.8417 - val_dense_3_root_mean_squared_error: 1.8286\n",
      "Epoch 3/20\n",
      "363/363 [==============================] - 1s 3ms/step - loss: 0.5048 - dense_2_loss: 0.4919 - dense_3_loss: 0.6209 - dense_2_root_mean_squared_error: 0.7014 - dense_3_root_mean_squared_error: 0.7880 - val_loss: 0.5136 - val_dense_2_loss: 0.4368 - val_dense_3_loss: 1.2048 - val_dense_2_root_mean_squared_error: 0.6609 - val_dense_3_root_mean_squared_error: 1.0976\n",
      "Epoch 4/20\n",
      "363/363 [==============================] - 1s 3ms/step - loss: 0.4513 - dense_2_loss: 0.4389 - dense_3_loss: 0.5625 - dense_2_root_mean_squared_error: 0.6625 - dense_3_root_mean_squared_error: 0.7500 - val_loss: 0.4668 - val_dense_2_loss: 0.4443 - val_dense_3_loss: 0.6691 - val_dense_2_root_mean_squared_error: 0.6666 - val_dense_3_root_mean_squared_error: 0.8180\n",
      "Epoch 5/20\n",
      "363/363 [==============================] - 1s 4ms/step - loss: 0.4173 - dense_2_loss: 0.4044 - dense_3_loss: 0.5330 - dense_2_root_mean_squared_error: 0.6360 - dense_3_root_mean_squared_error: 0.7300 - val_loss: 0.9269 - val_dense_2_loss: 0.9729 - val_dense_3_loss: 0.5134 - val_dense_2_root_mean_squared_error: 0.9863 - val_dense_3_root_mean_squared_error: 0.7165\n",
      "Epoch 6/20\n",
      "363/363 [==============================] - 1s 3ms/step - loss: 0.3984 - dense_2_loss: 0.3858 - dense_3_loss: 0.5117 - dense_2_root_mean_squared_error: 0.6211 - dense_3_root_mean_squared_error: 0.7153 - val_loss: 1.1000 - val_dense_2_loss: 1.1204 - val_dense_3_loss: 0.9165 - val_dense_2_root_mean_squared_error: 1.0585 - val_dense_3_root_mean_squared_error: 0.9574\n",
      "Epoch 7/20\n",
      "363/363 [==============================] - 1s 3ms/step - loss: 0.3905 - dense_2_loss: 0.3783 - dense_3_loss: 0.4999 - dense_2_root_mean_squared_error: 0.6151 - dense_3_root_mean_squared_error: 0.7070 - val_loss: 0.7278 - val_dense_2_loss: 0.7480 - val_dense_3_loss: 0.5464 - val_dense_2_root_mean_squared_error: 0.8649 - val_dense_3_root_mean_squared_error: 0.7392\n",
      "Epoch 8/20\n",
      "363/363 [==============================] - 1s 3ms/step - loss: 0.3720 - dense_2_loss: 0.3599 - dense_3_loss: 0.4806 - dense_2_root_mean_squared_error: 0.5999 - dense_3_root_mean_squared_error: 0.6933 - val_loss: 0.5866 - val_dense_2_loss: 0.5813 - val_dense_3_loss: 0.6343 - val_dense_2_root_mean_squared_error: 0.7624 - val_dense_3_root_mean_squared_error: 0.7964\n",
      "Epoch 9/20\n",
      "363/363 [==============================] - 1s 3ms/step - loss: 0.3644 - dense_2_loss: 0.3533 - dense_3_loss: 0.4645 - dense_2_root_mean_squared_error: 0.5944 - dense_3_root_mean_squared_error: 0.6815 - val_loss: 0.8231 - val_dense_2_loss: 0.8517 - val_dense_3_loss: 0.5653 - val_dense_2_root_mean_squared_error: 0.9229 - val_dense_3_root_mean_squared_error: 0.7518\n",
      "Epoch 10/20\n",
      "363/363 [==============================] - 1s 3ms/step - loss: 0.3627 - dense_2_loss: 0.3532 - dense_3_loss: 0.4484 - dense_2_root_mean_squared_error: 0.5943 - dense_3_root_mean_squared_error: 0.6696 - val_loss: 1.3841 - val_dense_2_loss: 1.3743 - val_dense_3_loss: 1.4725 - val_dense_2_root_mean_squared_error: 1.1723 - val_dense_3_root_mean_squared_error: 1.2135\n",
      "Epoch 11/20\n",
      "363/363 [==============================] - 1s 3ms/step - loss: 0.3563 - dense_2_loss: 0.3473 - dense_3_loss: 0.4372 - dense_2_root_mean_squared_error: 0.5893 - dense_3_root_mean_squared_error: 0.6612 - val_loss: 0.4533 - val_dense_2_loss: 0.4512 - val_dense_3_loss: 0.4725 - val_dense_2_root_mean_squared_error: 0.6717 - val_dense_3_root_mean_squared_error: 0.6874\n",
      "Epoch 12/20\n",
      "363/363 [==============================] - 1s 3ms/step - loss: 0.3549 - dense_2_loss: 0.3468 - dense_3_loss: 0.4281 - dense_2_root_mean_squared_error: 0.5889 - dense_3_root_mean_squared_error: 0.6543 - val_loss: 0.5203 - val_dense_2_loss: 0.5306 - val_dense_3_loss: 0.4282 - val_dense_2_root_mean_squared_error: 0.7284 - val_dense_3_root_mean_squared_error: 0.6543\n",
      "Epoch 13/20\n",
      "363/363 [==============================] - 1s 3ms/step - loss: 0.3454 - dense_2_loss: 0.3374 - dense_3_loss: 0.4169 - dense_2_root_mean_squared_error: 0.5809 - dense_3_root_mean_squared_error: 0.6457 - val_loss: 0.3206 - val_dense_2_loss: 0.3120 - val_dense_3_loss: 0.3985 - val_dense_2_root_mean_squared_error: 0.5585 - val_dense_3_root_mean_squared_error: 0.6312\n",
      "Epoch 14/20\n",
      "363/363 [==============================] - 1s 3ms/step - loss: 0.3421 - dense_2_loss: 0.3344 - dense_3_loss: 0.4110 - dense_2_root_mean_squared_error: 0.5783 - dense_3_root_mean_squared_error: 0.6411 - val_loss: 0.3159 - val_dense_2_loss: 0.3076 - val_dense_3_loss: 0.3909 - val_dense_2_root_mean_squared_error: 0.5546 - val_dense_3_root_mean_squared_error: 0.6253\n",
      "Epoch 15/20\n",
      "363/363 [==============================] - 1s 3ms/step - loss: 0.3385 - dense_2_loss: 0.3312 - dense_3_loss: 0.4038 - dense_2_root_mean_squared_error: 0.5755 - dense_3_root_mean_squared_error: 0.6354 - val_loss: 0.3357 - val_dense_2_loss: 0.3279 - val_dense_3_loss: 0.4059 - val_dense_2_root_mean_squared_error: 0.5726 - val_dense_3_root_mean_squared_error: 0.6371\n",
      "Epoch 16/20\n",
      "363/363 [==============================] - 1s 3ms/step - loss: 0.3366 - dense_2_loss: 0.3295 - dense_3_loss: 0.4006 - dense_2_root_mean_squared_error: 0.5740 - dense_3_root_mean_squared_error: 0.6329 - val_loss: 0.3658 - val_dense_2_loss: 0.3605 - val_dense_3_loss: 0.4134 - val_dense_2_root_mean_squared_error: 0.6004 - val_dense_3_root_mean_squared_error: 0.6429\n",
      "Epoch 17/20\n",
      "363/363 [==============================] - 1s 3ms/step - loss: 0.3369 - dense_2_loss: 0.3302 - dense_3_loss: 0.3978 - dense_2_root_mean_squared_error: 0.5746 - dense_3_root_mean_squared_error: 0.6307 - val_loss: 0.7933 - val_dense_2_loss: 0.8038 - val_dense_3_loss: 0.6986 - val_dense_2_root_mean_squared_error: 0.8965 - val_dense_3_root_mean_squared_error: 0.8358\n",
      "Epoch 18/20\n",
      "363/363 [==============================] - 1s 3ms/step - loss: 0.3335 - dense_2_loss: 0.3269 - dense_3_loss: 0.3929 - dense_2_root_mean_squared_error: 0.5718 - dense_3_root_mean_squared_error: 0.6268 - val_loss: 0.4801 - val_dense_2_loss: 0.4887 - val_dense_3_loss: 0.4028 - val_dense_2_root_mean_squared_error: 0.6990 - val_dense_3_root_mean_squared_error: 0.6346\n",
      "Epoch 19/20\n",
      "363/363 [==============================] - 1s 3ms/step - loss: 0.3305 - dense_2_loss: 0.3242 - dense_3_loss: 0.3875 - dense_2_root_mean_squared_error: 0.5694 - dense_3_root_mean_squared_error: 0.6225 - val_loss: 0.6591 - val_dense_2_loss: 0.6779 - val_dense_3_loss: 0.4906 - val_dense_2_root_mean_squared_error: 0.8233 - val_dense_3_root_mean_squared_error: 0.7004\n",
      "Epoch 20/20\n",
      "363/363 [==============================] - 1s 3ms/step - loss: 0.3319 - dense_2_loss: 0.3258 - dense_3_loss: 0.3874 - dense_2_root_mean_squared_error: 0.5708 - dense_3_root_mean_squared_error: 0.6224 - val_loss: 0.3241 - val_dense_2_loss: 0.3184 - val_dense_3_loss: 0.3752 - val_dense_2_root_mean_squared_error: 0.5643 - val_dense_3_root_mean_squared_error: 0.6125\n"
     ]
    }
   ],
   "source": [
    "norm_layer_wide.adapt(X_train_wide)\n",
    "norm_layer_deep.adapt(X_train_deep)\n",
    "history = model.fit(\n",
    "    (X_train_wide, X_train_deep), (y_train, y_train), epochs=20,\n",
    "    validation_data=((X_valid_wide, X_valid_deep), (y_valid, y_valid))\n",
    ")"
   ]
  },
  {
   "cell_type": "code",
   "execution_count": 69,
   "id": "51eaccb7-41ce-4877-909e-e408598a2de7",
   "metadata": {},
   "outputs": [
    {
     "name": "stdout",
     "output_type": "stream",
     "text": [
      "162/162 [==============================] - 0s 2ms/step - loss: 0.3290 - dense_2_loss: 0.3224 - dense_3_loss: 0.3886 - dense_2_root_mean_squared_error: 0.5678 - dense_3_root_mean_squared_error: 0.6234\n"
     ]
    }
   ],
   "source": [
    "eval_results = model.evaluate((X_test_wide, X_test_deep), (y_test, y_test))\n",
    "weighted_sum_of_losses, main_loss, aux_loss, main_rmse, aux_rmse = eval_results"
   ]
  },
  {
   "cell_type": "code",
   "execution_count": 70,
   "id": "5d56976c-eb4e-4596-a2b0-a0c1d9b5e19d",
   "metadata": {},
   "outputs": [
    {
     "name": "stdout",
     "output_type": "stream",
     "text": [
      "WARNING:tensorflow:5 out of the last 5 calls to <function Model.make_predict_function.<locals>.predict_function at 0x7f2bd1878280> triggered tf.function retracing. Tracing is expensive and the excessive number of tracings could be due to (1) creating @tf.function repeatedly in a loop, (2) passing tensors with different shapes, (3) passing Python objects instead of tensors. For (1), please define your @tf.function outside of the loop. For (2), @tf.function has reduce_retracing=True option that can avoid unnecessary retracing. For (3), please refer to https://www.tensorflow.org/guide/function#controlling_retracing and https://www.tensorflow.org/api_docs/python/tf/function for  more details.\n",
      "1/1 [==============================] - 0s 93ms/step\n"
     ]
    }
   ],
   "source": [
    "y_pred_main, y_pred_aux = model.predict((X_new_wide, X_new_deep))"
   ]
  },
  {
   "cell_type": "code",
   "execution_count": 71,
   "id": "d85ea9d1-f81d-4924-8c62-3a34d7f8c628",
   "metadata": {},
   "outputs": [
    {
     "name": "stdout",
     "output_type": "stream",
     "text": [
      "1/1 [==============================] - 0s 45ms/step\n"
     ]
    }
   ],
   "source": [
    "y_pred_tuple = model.predict((X_new_wide, X_new_deep))\n",
    "y_pred = dict(zip(model.output_names, y_pred_tuple))"
   ]
  },
  {
   "cell_type": "markdown",
   "id": "5b146971-efdd-435e-a571-4c3eb4ab805e",
   "metadata": {},
   "source": [
    "## Using the Subclassing API to Build Dynamic Models"
   ]
  },
  {
   "cell_type": "code",
   "execution_count": 72,
   "id": "412e3ea4-5ece-4d77-a24d-1c61f08f7826",
   "metadata": {},
   "outputs": [],
   "source": [
    "class WideAndDeepModel(tf.keras.Model):\n",
    "    def __init__(self, units=30, activation=\"relu\", **kwargs):\n",
    "        super().__init__(**kwargs)  # needed to support naming the model\n",
    "        self.norm_layer_wide = tf.keras.layers.Normalization()\n",
    "        self.norm_layer_deep = tf.keras.layers.Normalization()\n",
    "        self.hidden1 = tf.keras.layers.Dense(units, activation=activation)\n",
    "        self.hidden2 = tf.keras.layers.Dense(units, activation=activation)\n",
    "        self.main_output = tf.keras.layers.Dense(1)\n",
    "        self.aux_output = tf.keras.layers.Dense(1)\n",
    "        \n",
    "    def call(self, inputs):\n",
    "        input_wide, input_deep = inputs\n",
    "        norm_wide = self.norm_layer_wide(input_wide)\n",
    "        norm_deep = self.norm_layer_deep(input_deep)\n",
    "        hidden1 = self.hidden1(norm_deep)\n",
    "        hidden2 = self.hidden2(hidden1)\n",
    "        concat = tf.keras.layers.concatenate([norm_wide, hidden2])\n",
    "        output = self.main_output(concat)\n",
    "        aux_output = self.aux_output(hidden2)\n",
    "        return output, aux_output\n",
    "\n",
    "tf.random.set_seed(42)  # extra code – just for reproducibility\n",
    "model = WideAndDeepModel(30, activation=\"relu\", name=\"my_cool_model\")"
   ]
  },
  {
   "cell_type": "code",
   "execution_count": 73,
   "id": "1a66e760-0c88-490f-8044-b1d121ef1c42",
   "metadata": {},
   "outputs": [
    {
     "name": "stdout",
     "output_type": "stream",
     "text": [
      "Epoch 1/10\n",
      "363/363 [==============================] - 3s 4ms/step - loss: 1.6475 - output_1_loss: 1.6042 - output_2_loss: 2.0372 - output_1_root_mean_squared_error: 1.2666 - output_2_root_mean_squared_error: 1.4273 - val_loss: 0.7061 - val_output_1_loss: 0.6744 - val_output_2_loss: 0.9922 - val_output_1_root_mean_squared_error: 0.8212 - val_output_2_root_mean_squared_error: 0.9961\n",
      "Epoch 2/10\n",
      "363/363 [==============================] - 1s 3ms/step - loss: 0.5251 - output_1_loss: 0.5001 - output_2_loss: 0.7505 - output_1_root_mean_squared_error: 0.7072 - output_2_root_mean_squared_error: 0.8663 - val_loss: 2.2619 - val_output_1_loss: 2.4068 - val_output_2_loss: 0.9576 - val_output_1_root_mean_squared_error: 1.5514 - val_output_2_root_mean_squared_error: 0.9786\n",
      "Epoch 3/10\n",
      "363/363 [==============================] - 1s 3ms/step - loss: 0.4571 - output_1_loss: 0.4444 - output_2_loss: 0.5715 - output_1_root_mean_squared_error: 0.6667 - output_2_root_mean_squared_error: 0.7560 - val_loss: 0.5547 - val_output_1_loss: 0.4956 - val_output_2_loss: 1.0865 - val_output_1_root_mean_squared_error: 0.7040 - val_output_2_root_mean_squared_error: 1.0424\n",
      "Epoch 4/10\n",
      "363/363 [==============================] - 1s 3ms/step - loss: 0.4171 - output_1_loss: 0.4050 - output_2_loss: 0.5259 - output_1_root_mean_squared_error: 0.6364 - output_2_root_mean_squared_error: 0.7252 - val_loss: 0.7474 - val_output_1_loss: 0.7446 - val_output_2_loss: 0.7724 - val_output_1_root_mean_squared_error: 0.8629 - val_output_2_root_mean_squared_error: 0.8789\n",
      "Epoch 5/10\n",
      "363/363 [==============================] - 1s 3ms/step - loss: 0.4055 - output_1_loss: 0.3941 - output_2_loss: 0.5083 - output_1_root_mean_squared_error: 0.6278 - output_2_root_mean_squared_error: 0.7129 - val_loss: 1.4440 - val_output_1_loss: 1.3531 - val_output_2_loss: 2.2623 - val_output_1_root_mean_squared_error: 1.1632 - val_output_2_root_mean_squared_error: 1.5041\n",
      "Epoch 6/10\n",
      "363/363 [==============================] - 1s 3ms/step - loss: 0.3966 - output_1_loss: 0.3847 - output_2_loss: 0.5041 - output_1_root_mean_squared_error: 0.6202 - output_2_root_mean_squared_error: 0.7100 - val_loss: 1.8433 - val_output_1_loss: 1.8601 - val_output_2_loss: 1.6917 - val_output_1_root_mean_squared_error: 1.3639 - val_output_2_root_mean_squared_error: 1.3007\n",
      "Epoch 7/10\n",
      "363/363 [==============================] - 1s 3ms/step - loss: 0.3885 - output_1_loss: 0.3779 - output_2_loss: 0.4836 - output_1_root_mean_squared_error: 0.6147 - output_2_root_mean_squared_error: 0.6954 - val_loss: 0.4983 - val_output_1_loss: 0.4670 - val_output_2_loss: 0.7802 - val_output_1_root_mean_squared_error: 0.6833 - val_output_2_root_mean_squared_error: 0.8833\n",
      "Epoch 8/10\n",
      "363/363 [==============================] - 1s 3ms/step - loss: 0.3717 - output_1_loss: 0.3617 - output_2_loss: 0.4614 - output_1_root_mean_squared_error: 0.6014 - output_2_root_mean_squared_error: 0.6792 - val_loss: 0.9136 - val_output_1_loss: 0.9040 - val_output_2_loss: 1.0000 - val_output_1_root_mean_squared_error: 0.9508 - val_output_2_root_mean_squared_error: 1.0000\n",
      "Epoch 9/10\n",
      "363/363 [==============================] - 1s 3ms/step - loss: 0.3672 - output_1_loss: 0.3577 - output_2_loss: 0.4522 - output_1_root_mean_squared_error: 0.5981 - output_2_root_mean_squared_error: 0.6724 - val_loss: 0.9583 - val_output_1_loss: 0.8878 - val_output_2_loss: 1.5930 - val_output_1_root_mean_squared_error: 0.9422 - val_output_2_root_mean_squared_error: 1.2621\n",
      "Epoch 10/10\n",
      "363/363 [==============================] - 1s 3ms/step - loss: 0.3684 - output_1_loss: 0.3593 - output_2_loss: 0.4510 - output_1_root_mean_squared_error: 0.5994 - output_2_root_mean_squared_error: 0.6715 - val_loss: 1.3359 - val_output_1_loss: 1.3231 - val_output_2_loss: 1.4514 - val_output_1_root_mean_squared_error: 1.1502 - val_output_2_root_mean_squared_error: 1.2048\n",
      "162/162 [==============================] - 0s 2ms/step - loss: 0.3600 - output_1_loss: 0.3512 - output_2_loss: 0.4389 - output_1_root_mean_squared_error: 0.5927 - output_2_root_mean_squared_error: 0.6625\n",
      "WARNING:tensorflow:6 out of the last 7 calls to <function Model.make_predict_function.<locals>.predict_function at 0x7f2c031ecd30> triggered tf.function retracing. Tracing is expensive and the excessive number of tracings could be due to (1) creating @tf.function repeatedly in a loop, (2) passing tensors with different shapes, (3) passing Python objects instead of tensors. For (1), please define your @tf.function outside of the loop. For (2), @tf.function has reduce_retracing=True option that can avoid unnecessary retracing. For (3), please refer to https://www.tensorflow.org/guide/function#controlling_retracing and https://www.tensorflow.org/api_docs/python/tf/function for  more details.\n",
      "1/1 [==============================] - 0s 137ms/step\n"
     ]
    }
   ],
   "source": [
    "optimizer = tf.keras.optimizers.Adam(learning_rate=1e-3)\n",
    "model.compile(loss=\"mse\", loss_weights=[0.9, 0.1], optimizer=optimizer,\n",
    "              metrics=[\"RootMeanSquaredError\"])\n",
    "model.norm_layer_wide.adapt(X_train_wide)\n",
    "model.norm_layer_deep.adapt(X_train_deep)\n",
    "history = model.fit(\n",
    "    (X_train_wide, X_train_deep), (y_train, y_train), epochs=10,\n",
    "    validation_data=((X_valid_wide, X_valid_deep), (y_valid, y_valid)))\n",
    "eval_results = model.evaluate((X_test_wide, X_test_deep), (y_test, y_test))\n",
    "weighted_sum_of_losses, main_loss, aux_loss, main_rmse, aux_rmse = eval_results\n",
    "y_pred_main, y_pred_aux = model.predict((X_new_wide, X_new_deep))"
   ]
  },
  {
   "cell_type": "markdown",
   "id": "f6494bb1-e143-4695-954d-34a823186a66",
   "metadata": {},
   "source": [
    "## Saving and Restoring a Model"
   ]
  },
  {
   "cell_type": "code",
   "execution_count": 74,
   "id": "3bc5a49f-efb6-4af7-ab53-cbf472f07698",
   "metadata": {},
   "outputs": [],
   "source": [
    "# extra code – delete the directory, in case it already exists\n",
    "\n",
    "import shutil\n",
    "\n",
    "shutil.rmtree(\"my_keras_model\", ignore_errors=True)"
   ]
  },
  {
   "cell_type": "code",
   "execution_count": 75,
   "id": "b871516c-2e22-41af-8583-8fdaf07a07c1",
   "metadata": {},
   "outputs": [
    {
     "name": "stdout",
     "output_type": "stream",
     "text": [
      "INFO:tensorflow:Assets written to: my_keras_model/assets\n"
     ]
    },
    {
     "name": "stderr",
     "output_type": "stream",
     "text": [
      "INFO:tensorflow:Assets written to: my_keras_model/assets\n"
     ]
    }
   ],
   "source": [
    "model.save(\"my_keras_model\", save_format=\"tf\")"
   ]
  },
  {
   "cell_type": "code",
   "execution_count": 76,
   "id": "118054bd-1b69-444b-80cd-002a64146380",
   "metadata": {},
   "outputs": [
    {
     "name": "stdout",
     "output_type": "stream",
     "text": [
      "my_keras_model/assets\n",
      "my_keras_model/fingerprint.pb\n",
      "my_keras_model/keras_metadata.pb\n",
      "my_keras_model/saved_model.pb\n",
      "my_keras_model/variables\n",
      "my_keras_model/variables/variables.data-00000-of-00001\n",
      "my_keras_model/variables/variables.index\n"
     ]
    }
   ],
   "source": [
    "# extra code – show the contents of the my_keras_model/ directory\n",
    "for path in sorted(Path(\"my_keras_model\").glob(\"**/*\")):\n",
    "    print(path)"
   ]
  },
  {
   "cell_type": "code",
   "execution_count": 77,
   "id": "a7a25f10-d0f5-4332-bd45-cb259405bfd2",
   "metadata": {},
   "outputs": [
    {
     "name": "stdout",
     "output_type": "stream",
     "text": [
      "1/1 [==============================] - 0s 114ms/step\n"
     ]
    }
   ],
   "source": [
    "model = tf.keras.models.load_model(\"my_keras_model\")\n",
    "y_pred_main, y_pred_aux = model.predict((X_new_wide, X_new_deep))"
   ]
  },
  {
   "cell_type": "code",
   "execution_count": 78,
   "id": "73339909-301f-4dfc-8520-2f01a83d145a",
   "metadata": {},
   "outputs": [],
   "source": [
    "model.save_weights(\"my_weights\")"
   ]
  },
  {
   "cell_type": "code",
   "execution_count": 79,
   "id": "f6393258-435b-4b2d-a329-8192d5ac898c",
   "metadata": {},
   "outputs": [
    {
     "data": {
      "text/plain": [
       "<tensorflow.python.checkpoint.checkpoint.CheckpointLoadStatus at 0x7f2c14771d00>"
      ]
     },
     "execution_count": 79,
     "metadata": {},
     "output_type": "execute_result"
    }
   ],
   "source": [
    "model.load_weights(\"my_weights\")"
   ]
  },
  {
   "cell_type": "code",
   "execution_count": 80,
   "id": "03ebc830-aa0c-499c-9f75-deaf68436dd8",
   "metadata": {},
   "outputs": [
    {
     "name": "stdout",
     "output_type": "stream",
     "text": [
      "my_weights.data-00000-of-00001\n",
      "my_weights.index\n"
     ]
    }
   ],
   "source": [
    "# extra code – show the list of my_weights.* files\n",
    "for path in sorted(Path().glob(\"my_weights.*\")):\n",
    "    print(path)"
   ]
  },
  {
   "cell_type": "markdown",
   "id": "3899df2f-dc47-46c7-be3e-053d58f14685",
   "metadata": {},
   "source": [
    "## Using Callbacks"
   ]
  },
  {
   "cell_type": "code",
   "execution_count": 81,
   "id": "d9020b7c-3035-4bf5-a94e-95a1baa68bc7",
   "metadata": {},
   "outputs": [],
   "source": [
    "shutil.rmtree(\"my_checkpoints\", ignore_errors=True)  # extra code"
   ]
  },
  {
   "cell_type": "code",
   "execution_count": 82,
   "id": "31964eba-9427-4307-a93b-70830e36ae3e",
   "metadata": {},
   "outputs": [
    {
     "name": "stdout",
     "output_type": "stream",
     "text": [
      "Epoch 1/10\n",
      "363/363 [==============================] - 3s 4ms/step - loss: 0.3685 - output_1_loss: 0.3596 - output_2_loss: 0.4487 - output_1_root_mean_squared_error: 0.5997 - output_2_root_mean_squared_error: 0.6698 - val_loss: 0.3336 - val_output_1_loss: 0.3235 - val_output_2_loss: 0.4245 - val_output_1_root_mean_squared_error: 0.5688 - val_output_2_root_mean_squared_error: 0.6515\n",
      "Epoch 2/10\n",
      "363/363 [==============================] - 1s 3ms/step - loss: 0.3508 - output_1_loss: 0.3428 - output_2_loss: 0.4223 - output_1_root_mean_squared_error: 0.5855 - output_2_root_mean_squared_error: 0.6499 - val_loss: 0.5589 - val_output_1_loss: 0.5698 - val_output_2_loss: 0.4607 - val_output_1_root_mean_squared_error: 0.7549 - val_output_2_root_mean_squared_error: 0.6787\n",
      "Epoch 3/10\n",
      "363/363 [==============================] - 1s 3ms/step - loss: 0.3558 - output_1_loss: 0.3486 - output_2_loss: 0.4208 - output_1_root_mean_squared_error: 0.5905 - output_2_root_mean_squared_error: 0.6487 - val_loss: 0.3415 - val_output_1_loss: 0.3268 - val_output_2_loss: 0.4744 - val_output_1_root_mean_squared_error: 0.5717 - val_output_2_root_mean_squared_error: 0.6888\n",
      "Epoch 4/10\n",
      "363/363 [==============================] - 1s 3ms/step - loss: 0.3500 - output_1_loss: 0.3422 - output_2_loss: 0.4202 - output_1_root_mean_squared_error: 0.5849 - output_2_root_mean_squared_error: 0.6482 - val_loss: 0.5778 - val_output_1_loss: 0.5622 - val_output_2_loss: 0.7175 - val_output_1_root_mean_squared_error: 0.7498 - val_output_2_root_mean_squared_error: 0.8470\n",
      "Epoch 5/10\n",
      "363/363 [==============================] - 1s 3ms/step - loss: 0.3513 - output_1_loss: 0.3442 - output_2_loss: 0.4153 - output_1_root_mean_squared_error: 0.5866 - output_2_root_mean_squared_error: 0.6444 - val_loss: 0.8158 - val_output_1_loss: 0.8182 - val_output_2_loss: 0.7939 - val_output_1_root_mean_squared_error: 0.9046 - val_output_2_root_mean_squared_error: 0.8910\n",
      "Epoch 6/10\n",
      "363/363 [==============================] - 1s 3ms/step - loss: 0.3477 - output_1_loss: 0.3404 - output_2_loss: 0.4134 - output_1_root_mean_squared_error: 0.5834 - output_2_root_mean_squared_error: 0.6430 - val_loss: 1.1833 - val_output_1_loss: 1.1643 - val_output_2_loss: 1.3541 - val_output_1_root_mean_squared_error: 1.0790 - val_output_2_root_mean_squared_error: 1.1637\n",
      "Epoch 7/10\n",
      "363/363 [==============================] - 1s 3ms/step - loss: 0.3477 - output_1_loss: 0.3407 - output_2_loss: 0.4110 - output_1_root_mean_squared_error: 0.5837 - output_2_root_mean_squared_error: 0.6411 - val_loss: 1.2773 - val_output_1_loss: 1.2200 - val_output_2_loss: 1.7927 - val_output_1_root_mean_squared_error: 1.1045 - val_output_2_root_mean_squared_error: 1.3389\n",
      "Epoch 8/10\n",
      "363/363 [==============================] - 1s 4ms/step - loss: 0.3417 - output_1_loss: 0.3348 - output_2_loss: 0.4041 - output_1_root_mean_squared_error: 0.5786 - output_2_root_mean_squared_error: 0.6357 - val_loss: 0.7064 - val_output_1_loss: 0.6920 - val_output_2_loss: 0.8359 - val_output_1_root_mean_squared_error: 0.8319 - val_output_2_root_mean_squared_error: 0.9143\n",
      "Epoch 9/10\n",
      "363/363 [==============================] - 1s 3ms/step - loss: 0.3391 - output_1_loss: 0.3324 - output_2_loss: 0.3994 - output_1_root_mean_squared_error: 0.5766 - output_2_root_mean_squared_error: 0.6320 - val_loss: 1.0258 - val_output_1_loss: 0.9963 - val_output_2_loss: 1.2918 - val_output_1_root_mean_squared_error: 0.9981 - val_output_2_root_mean_squared_error: 1.1366\n",
      "Epoch 10/10\n",
      "363/363 [==============================] - 1s 3ms/step - loss: 0.3388 - output_1_loss: 0.3323 - output_2_loss: 0.3974 - output_1_root_mean_squared_error: 0.5765 - output_2_root_mean_squared_error: 0.6304 - val_loss: 0.3223 - val_output_1_loss: 0.3132 - val_output_2_loss: 0.4041 - val_output_1_root_mean_squared_error: 0.5597 - val_output_2_root_mean_squared_error: 0.6357\n"
     ]
    }
   ],
   "source": [
    "checkpoint_cb = tf.keras.callbacks.ModelCheckpoint(\"my_checkpoints\",\n",
    "                                                   save_weights_only=True)\n",
    "history = model.fit(\n",
    "    (X_train_wide, X_train_deep), (y_train, y_train), epochs=10,\n",
    "    validation_data=((X_valid_wide, X_valid_deep), (y_valid, y_valid)),\n",
    "    callbacks=[checkpoint_cb])"
   ]
  },
  {
   "cell_type": "code",
   "execution_count": 83,
   "id": "f383858e-1c04-4be8-b072-c7f29f1232af",
   "metadata": {},
   "outputs": [
    {
     "name": "stdout",
     "output_type": "stream",
     "text": [
      "Epoch 1/100\n",
      "363/363 [==============================] - 1s 3ms/step - loss: 0.3334 - output_1_loss: 0.3270 - output_2_loss: 0.3911 - output_1_root_mean_squared_error: 0.5718 - output_2_root_mean_squared_error: 0.6254 - val_loss: 0.6431 - val_output_1_loss: 0.6509 - val_output_2_loss: 0.5729 - val_output_1_root_mean_squared_error: 0.8068 - val_output_2_root_mean_squared_error: 0.7569\n",
      "Epoch 2/100\n",
      "363/363 [==============================] - 1s 3ms/step - loss: 0.3396 - output_1_loss: 0.3334 - output_2_loss: 0.3948 - output_1_root_mean_squared_error: 0.5775 - output_2_root_mean_squared_error: 0.6284 - val_loss: 0.4059 - val_output_1_loss: 0.4022 - val_output_2_loss: 0.4390 - val_output_1_root_mean_squared_error: 0.6342 - val_output_2_root_mean_squared_error: 0.6626\n",
      "Epoch 3/100\n",
      "363/363 [==============================] - 1s 3ms/step - loss: 0.3310 - output_1_loss: 0.3251 - output_2_loss: 0.3843 - output_1_root_mean_squared_error: 0.5701 - output_2_root_mean_squared_error: 0.6199 - val_loss: 1.1525 - val_output_1_loss: 1.1524 - val_output_2_loss: 1.1535 - val_output_1_root_mean_squared_error: 1.0735 - val_output_2_root_mean_squared_error: 1.0740\n",
      "Epoch 4/100\n",
      "363/363 [==============================] - 1s 3ms/step - loss: 0.3328 - output_1_loss: 0.3266 - output_2_loss: 0.3884 - output_1_root_mean_squared_error: 0.5715 - output_2_root_mean_squared_error: 0.6232 - val_loss: 1.0759 - val_output_1_loss: 1.0579 - val_output_2_loss: 1.2373 - val_output_1_root_mean_squared_error: 1.0286 - val_output_2_root_mean_squared_error: 1.1124\n",
      "Epoch 5/100\n",
      "363/363 [==============================] - 1s 3ms/step - loss: 0.3337 - output_1_loss: 0.3278 - output_2_loss: 0.3865 - output_1_root_mean_squared_error: 0.5726 - output_2_root_mean_squared_error: 0.6217 - val_loss: 1.4007 - val_output_1_loss: 1.3744 - val_output_2_loss: 1.6376 - val_output_1_root_mean_squared_error: 1.1724 - val_output_2_root_mean_squared_error: 1.2797\n",
      "Epoch 6/100\n",
      "363/363 [==============================] - 1s 3ms/step - loss: 0.3314 - output_1_loss: 0.3251 - output_2_loss: 0.3876 - output_1_root_mean_squared_error: 0.5702 - output_2_root_mean_squared_error: 0.6226 - val_loss: 0.5347 - val_output_1_loss: 0.5254 - val_output_2_loss: 0.6187 - val_output_1_root_mean_squared_error: 0.7248 - val_output_2_root_mean_squared_error: 0.7866\n",
      "Epoch 7/100\n",
      "363/363 [==============================] - 1s 3ms/step - loss: 0.3263 - output_1_loss: 0.3206 - output_2_loss: 0.3775 - output_1_root_mean_squared_error: 0.5662 - output_2_root_mean_squared_error: 0.6144 - val_loss: 0.9162 - val_output_1_loss: 0.9258 - val_output_2_loss: 0.8302 - val_output_1_root_mean_squared_error: 0.9622 - val_output_2_root_mean_squared_error: 0.9112\n",
      "Epoch 8/100\n",
      "363/363 [==============================] - 1s 3ms/step - loss: 0.3238 - output_1_loss: 0.3183 - output_2_loss: 0.3738 - output_1_root_mean_squared_error: 0.5641 - output_2_root_mean_squared_error: 0.6114 - val_loss: 0.8583 - val_output_1_loss: 0.8565 - val_output_2_loss: 0.8753 - val_output_1_root_mean_squared_error: 0.9255 - val_output_2_root_mean_squared_error: 0.9355\n",
      "Epoch 9/100\n",
      "363/363 [==============================] - 1s 3ms/step - loss: 0.3254 - output_1_loss: 0.3198 - output_2_loss: 0.3755 - output_1_root_mean_squared_error: 0.5656 - output_2_root_mean_squared_error: 0.6128 - val_loss: 0.6873 - val_output_1_loss: 0.6542 - val_output_2_loss: 0.9851 - val_output_1_root_mean_squared_error: 0.8088 - val_output_2_root_mean_squared_error: 0.9925\n",
      "Epoch 10/100\n",
      "363/363 [==============================] - 1s 3ms/step - loss: 0.3270 - output_1_loss: 0.3214 - output_2_loss: 0.3779 - output_1_root_mean_squared_error: 0.5669 - output_2_root_mean_squared_error: 0.6147 - val_loss: 0.3084 - val_output_1_loss: 0.3021 - val_output_2_loss: 0.3653 - val_output_1_root_mean_squared_error: 0.5497 - val_output_2_root_mean_squared_error: 0.6044\n",
      "Epoch 11/100\n",
      "363/363 [==============================] - 1s 3ms/step - loss: 0.3170 - output_1_loss: 0.3114 - output_2_loss: 0.3671 - output_1_root_mean_squared_error: 0.5580 - output_2_root_mean_squared_error: 0.6059 - val_loss: 0.3268 - val_output_1_loss: 0.3202 - val_output_2_loss: 0.3858 - val_output_1_root_mean_squared_error: 0.5659 - val_output_2_root_mean_squared_error: 0.6211\n",
      "Epoch 12/100\n",
      "363/363 [==============================] - 1s 3ms/step - loss: 0.3209 - output_1_loss: 0.3154 - output_2_loss: 0.3706 - output_1_root_mean_squared_error: 0.5616 - output_2_root_mean_squared_error: 0.6088 - val_loss: 0.5862 - val_output_1_loss: 0.5859 - val_output_2_loss: 0.5889 - val_output_1_root_mean_squared_error: 0.7655 - val_output_2_root_mean_squared_error: 0.7674\n",
      "Epoch 13/100\n",
      "363/363 [==============================] - 1s 3ms/step - loss: 0.3168 - output_1_loss: 0.3113 - output_2_loss: 0.3665 - output_1_root_mean_squared_error: 0.5579 - output_2_root_mean_squared_error: 0.6054 - val_loss: 0.5804 - val_output_1_loss: 0.5712 - val_output_2_loss: 0.6630 - val_output_1_root_mean_squared_error: 0.7558 - val_output_2_root_mean_squared_error: 0.8143\n",
      "Epoch 14/100\n",
      "363/363 [==============================] - 1s 3ms/step - loss: 0.3191 - output_1_loss: 0.3136 - output_2_loss: 0.3694 - output_1_root_mean_squared_error: 0.5600 - output_2_root_mean_squared_error: 0.6077 - val_loss: 0.7069 - val_output_1_loss: 0.6801 - val_output_2_loss: 0.9476 - val_output_1_root_mean_squared_error: 0.8247 - val_output_2_root_mean_squared_error: 0.9735\n",
      "Epoch 15/100\n",
      "363/363 [==============================] - 1s 3ms/step - loss: 0.3175 - output_1_loss: 0.3121 - output_2_loss: 0.3659 - output_1_root_mean_squared_error: 0.5586 - output_2_root_mean_squared_error: 0.6049 - val_loss: 0.3960 - val_output_1_loss: 0.3847 - val_output_2_loss: 0.4976 - val_output_1_root_mean_squared_error: 0.6202 - val_output_2_root_mean_squared_error: 0.7054\n",
      "Epoch 16/100\n",
      "363/363 [==============================] - 1s 3ms/step - loss: 0.3126 - output_1_loss: 0.3073 - output_2_loss: 0.3608 - output_1_root_mean_squared_error: 0.5543 - output_2_root_mean_squared_error: 0.6007 - val_loss: 0.4681 - val_output_1_loss: 0.4580 - val_output_2_loss: 0.5595 - val_output_1_root_mean_squared_error: 0.6767 - val_output_2_root_mean_squared_error: 0.7480\n",
      "Epoch 17/100\n",
      "363/363 [==============================] - 1s 3ms/step - loss: 0.3140 - output_1_loss: 0.3088 - output_2_loss: 0.3615 - output_1_root_mean_squared_error: 0.5557 - output_2_root_mean_squared_error: 0.6012 - val_loss: 0.3037 - val_output_1_loss: 0.2976 - val_output_2_loss: 0.3586 - val_output_1_root_mean_squared_error: 0.5455 - val_output_2_root_mean_squared_error: 0.5988\n",
      "Epoch 18/100\n",
      "363/363 [==============================] - 1s 3ms/step - loss: 0.3106 - output_1_loss: 0.3055 - output_2_loss: 0.3566 - output_1_root_mean_squared_error: 0.5527 - output_2_root_mean_squared_error: 0.5972 - val_loss: 0.7117 - val_output_1_loss: 0.6999 - val_output_2_loss: 0.8185 - val_output_1_root_mean_squared_error: 0.8366 - val_output_2_root_mean_squared_error: 0.9047\n",
      "Epoch 19/100\n",
      "363/363 [==============================] - 1s 3ms/step - loss: 0.3138 - output_1_loss: 0.3086 - output_2_loss: 0.3600 - output_1_root_mean_squared_error: 0.5556 - output_2_root_mean_squared_error: 0.6000 - val_loss: 0.4170 - val_output_1_loss: 0.3994 - val_output_2_loss: 0.5755 - val_output_1_root_mean_squared_error: 0.6320 - val_output_2_root_mean_squared_error: 0.7586\n",
      "Epoch 20/100\n",
      "363/363 [==============================] - 1s 3ms/step - loss: 0.3179 - output_1_loss: 0.3127 - output_2_loss: 0.3648 - output_1_root_mean_squared_error: 0.5592 - output_2_root_mean_squared_error: 0.6040 - val_loss: 0.5932 - val_output_1_loss: 0.5933 - val_output_2_loss: 0.5918 - val_output_1_root_mean_squared_error: 0.7703 - val_output_2_root_mean_squared_error: 0.7693\n",
      "Epoch 21/100\n",
      "363/363 [==============================] - 1s 3ms/step - loss: 0.3151 - output_1_loss: 0.3102 - output_2_loss: 0.3591 - output_1_root_mean_squared_error: 0.5569 - output_2_root_mean_squared_error: 0.5993 - val_loss: 0.3022 - val_output_1_loss: 0.2949 - val_output_2_loss: 0.3682 - val_output_1_root_mean_squared_error: 0.5431 - val_output_2_root_mean_squared_error: 0.6068\n",
      "Epoch 22/100\n",
      "363/363 [==============================] - 1s 3ms/step - loss: 0.3112 - output_1_loss: 0.3063 - output_2_loss: 0.3547 - output_1_root_mean_squared_error: 0.5535 - output_2_root_mean_squared_error: 0.5956 - val_loss: 0.5728 - val_output_1_loss: 0.5729 - val_output_2_loss: 0.5721 - val_output_1_root_mean_squared_error: 0.7569 - val_output_2_root_mean_squared_error: 0.7564\n",
      "Epoch 23/100\n",
      "363/363 [==============================] - 1s 3ms/step - loss: 0.3072 - output_1_loss: 0.3022 - output_2_loss: 0.3522 - output_1_root_mean_squared_error: 0.5497 - output_2_root_mean_squared_error: 0.5934 - val_loss: 0.3645 - val_output_1_loss: 0.3608 - val_output_2_loss: 0.3976 - val_output_1_root_mean_squared_error: 0.6007 - val_output_2_root_mean_squared_error: 0.6306\n",
      "Epoch 24/100\n",
      "363/363 [==============================] - 1s 3ms/step - loss: 0.3092 - output_1_loss: 0.3040 - output_2_loss: 0.3558 - output_1_root_mean_squared_error: 0.5514 - output_2_root_mean_squared_error: 0.5965 - val_loss: 0.7759 - val_output_1_loss: 0.7697 - val_output_2_loss: 0.8311 - val_output_1_root_mean_squared_error: 0.8773 - val_output_2_root_mean_squared_error: 0.9116\n",
      "Epoch 25/100\n",
      "363/363 [==============================] - 1s 3ms/step - loss: 0.3077 - output_1_loss: 0.3028 - output_2_loss: 0.3520 - output_1_root_mean_squared_error: 0.5502 - output_2_root_mean_squared_error: 0.5933 - val_loss: 0.3075 - val_output_1_loss: 0.3016 - val_output_2_loss: 0.3606 - val_output_1_root_mean_squared_error: 0.5492 - val_output_2_root_mean_squared_error: 0.6005\n",
      "Epoch 26/100\n",
      "363/363 [==============================] - 1s 3ms/step - loss: 0.3052 - output_1_loss: 0.3002 - output_2_loss: 0.3504 - output_1_root_mean_squared_error: 0.5479 - output_2_root_mean_squared_error: 0.5919 - val_loss: 0.6176 - val_output_1_loss: 0.6198 - val_output_2_loss: 0.5977 - val_output_1_root_mean_squared_error: 0.7873 - val_output_2_root_mean_squared_error: 0.7731\n",
      "Epoch 27/100\n",
      "363/363 [==============================] - 1s 3ms/step - loss: 0.3057 - output_1_loss: 0.3008 - output_2_loss: 0.3498 - output_1_root_mean_squared_error: 0.5485 - output_2_root_mean_squared_error: 0.5914 - val_loss: 0.3336 - val_output_1_loss: 0.3268 - val_output_2_loss: 0.3950 - val_output_1_root_mean_squared_error: 0.5717 - val_output_2_root_mean_squared_error: 0.6285\n",
      "Epoch 28/100\n",
      "363/363 [==============================] - 1s 4ms/step - loss: 0.3070 - output_1_loss: 0.3022 - output_2_loss: 0.3505 - output_1_root_mean_squared_error: 0.5497 - output_2_root_mean_squared_error: 0.5920 - val_loss: 0.7203 - val_output_1_loss: 0.7236 - val_output_2_loss: 0.6907 - val_output_1_root_mean_squared_error: 0.8506 - val_output_2_root_mean_squared_error: 0.8311\n",
      "Epoch 29/100\n",
      "363/363 [==============================] - 1s 4ms/step - loss: 0.3088 - output_1_loss: 0.3038 - output_2_loss: 0.3539 - output_1_root_mean_squared_error: 0.5512 - output_2_root_mean_squared_error: 0.5949 - val_loss: 0.3068 - val_output_1_loss: 0.3018 - val_output_2_loss: 0.3518 - val_output_1_root_mean_squared_error: 0.5494 - val_output_2_root_mean_squared_error: 0.5931\n",
      "Epoch 30/100\n",
      "363/363 [==============================] - 1s 3ms/step - loss: 0.3051 - output_1_loss: 0.3003 - output_2_loss: 0.3479 - output_1_root_mean_squared_error: 0.5480 - output_2_root_mean_squared_error: 0.5899 - val_loss: 0.6169 - val_output_1_loss: 0.6159 - val_output_2_loss: 0.6256 - val_output_1_root_mean_squared_error: 0.7848 - val_output_2_root_mean_squared_error: 0.7909\n",
      "Epoch 31/100\n",
      "363/363 [==============================] - 1s 3ms/step - loss: 0.3079 - output_1_loss: 0.3030 - output_2_loss: 0.3516 - output_1_root_mean_squared_error: 0.5504 - output_2_root_mean_squared_error: 0.5930 - val_loss: 0.3531 - val_output_1_loss: 0.3487 - val_output_2_loss: 0.3927 - val_output_1_root_mean_squared_error: 0.5905 - val_output_2_root_mean_squared_error: 0.6267\n"
     ]
    }
   ],
   "source": [
    "early_stopping_cb = tf.keras.callbacks.EarlyStopping(patience=10,\n",
    "                                                     restore_best_weights=True)\n",
    "history = model.fit(\n",
    "    (X_train_wide, X_train_deep), (y_train, y_train), epochs=100,\n",
    "    validation_data=((X_valid_wide, X_valid_deep), (y_valid, y_valid)),\n",
    "    callbacks=[checkpoint_cb, early_stopping_cb])"
   ]
  },
  {
   "cell_type": "code",
   "execution_count": 84,
   "id": "26e22be4-f244-4d52-a261-245a8cb2a238",
   "metadata": {},
   "outputs": [],
   "source": [
    "class PrintValTrainRatioCallback(tf.keras.callbacks.Callback):\n",
    "    def on_epoch_end(self, epoch, logs):\n",
    "        ratio = logs[\"val_loss\"] / logs[\"loss\"]\n",
    "        print(f\"Epoch={epoch}, val/train={ratio:.2f}\")"
   ]
  },
  {
   "cell_type": "code",
   "execution_count": 85,
   "id": "7451c9a6-3da6-42a7-96c4-33e444bfd804",
   "metadata": {},
   "outputs": [
    {
     "name": "stdout",
     "output_type": "stream",
     "text": [
      "Epoch=0, val/train=1.14\n",
      "Epoch=1, val/train=1.08\n",
      "Epoch=2, val/train=1.01\n",
      "Epoch=3, val/train=1.37\n",
      "Epoch=4, val/train=1.51\n",
      "Epoch=5, val/train=1.22\n",
      "Epoch=6, val/train=2.04\n",
      "Epoch=7, val/train=2.89\n",
      "Epoch=8, val/train=2.16\n",
      "Epoch=9, val/train=1.16\n"
     ]
    }
   ],
   "source": [
    "val_train_ratio_cb = PrintValTrainRatioCallback()\n",
    "history = model.fit(\n",
    "    (X_train_wide, X_train_deep), (y_train, y_train), epochs=10,\n",
    "    validation_data=((X_valid_wide, X_valid_deep), (y_valid, y_valid)),\n",
    "    callbacks=[val_train_ratio_cb], verbose=0)"
   ]
  },
  {
   "cell_type": "markdown",
   "id": "bb8f69ed-4c60-4169-927e-39572eca21f2",
   "metadata": {},
   "source": [
    "## Using TensorBoard for Visualization"
   ]
  },
  {
   "cell_type": "code",
   "execution_count": null,
   "id": "4f5a5123-7709-4f29-83a9-2e5091ea73c1",
   "metadata": {},
   "outputs": [],
   "source": []
  }
 ],
 "metadata": {
  "kernelspec": {
   "display_name": "tf2.13",
   "language": "python",
   "name": "tf2.13"
  },
  "language_info": {
   "codemirror_mode": {
    "name": "ipython",
    "version": 3
   },
   "file_extension": ".py",
   "mimetype": "text/x-python",
   "name": "python",
   "nbconvert_exporter": "python",
   "pygments_lexer": "ipython3",
   "version": "3.8.17"
  }
 },
 "nbformat": 4,
 "nbformat_minor": 5
}
